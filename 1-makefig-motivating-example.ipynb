{
 "cells": [
  {
   "cell_type": "code",
   "execution_count": 1,
   "id": "7650d450",
   "metadata": {
    "format": "row"
   },
   "outputs": [
    {
     "name": "stdout",
     "output_type": "stream",
     "text": [
      "This is how much space the figure will take up on letter paper\n"
     ]
    }
   ],
   "source": [
    "__PRODUCTION__ = 1\n",
    "__NAME__       = 'motivation'\n",
    "__WIDTH__      = 5.5  # NeurIPS 2021 text box width\n",
    "__HEIGHT__     = 1.65\n",
    "\n",
    "if __PRODUCTION__:\n",
    "    from mplmagic2 import pgf\n",
    "else:\n",
    "    from mplmagic2 import svg\n",
    "\n",
    "from mplmagic2 import SuperFigure, tex\n",
    "import matplotlib.pyplot as plt\n",
    "\n",
    "print('This is how much space the figure will take up on letter paper')\n",
    "SuperFigure.size_hint(__WIDTH__, __HEIGHT__, margin_left=0.5 * (8.5 - __WIDTH__));"
   ]
  },
  {
   "cell_type": "code",
   "execution_count": 2,
   "id": "e88a64da",
   "metadata": {
    "format": "row"
   },
   "outputs": [],
   "source": [
    "import dill\n",
    "import functools\n",
    "import numpy as np\n",
    "from scipy.ndimage import gaussian_filter1d\n",
    "from scipy.spatial.distance import cdist\n",
    "import torch\n",
    "import torch.nn.functional as F\n",
    "from torch import optim\n",
    "\n",
    "from symfac.experimental import RBFExpansionPlus"
   ]
  },
  {
   "cell_type": "code",
   "execution_count": 3,
   "id": "d49cb5c6",
   "metadata": {},
   "outputs": [
    {
     "name": "stderr",
     "output_type": "stream",
     "text": [
      "/tmp/ipykernel_1799341/3197144978.py:19: UserWarning: Matplotlib is currently using pgf, which is a non-GUI backend, so cannot show the figure.\n",
      "  plt.show()\n"
     ]
    },
    {
     "name": "stdout",
     "output_type": "stream",
     "text": [
      "[0.13909, 0.06549, 0.0267, 0.00791, 0.0037, 0.00134, 0.00047, 0.0001, 5e-05]\n"
     ]
    }
   ],
   "source": [
    "def rbf(X, Y=None):\n",
    "    return np.exp(-np.subtract.outer(X, Y if Y is not None else X)**2)\n",
    "\n",
    "n = 64\n",
    "\n",
    "np.random.seed(128)\n",
    "u = 5 * np.random.randn(n)\n",
    "v = 4 * np.random.randn(n)\n",
    "u = gaussian_filter1d(u, 3., order=0)\n",
    "v = gaussian_filter1d(v, 6., order=0)\n",
    "\n",
    "K = rbf(u) - rbf(v)\n",
    "Kt = torch.tensor(K, dtype=torch.float32)\n",
    "\n",
    "fig, axs = plt.subplots(1, 2, figsize=(8, 4))\n",
    "\n",
    "axs[0].imshow(K)\n",
    "axs[1].bar(np.arange(n), np.linalg.eigvalsh(K))\n",
    "plt.show()\n",
    "\n",
    "U, S, V = np.linalg.svd(K)\n",
    "svd_K = []\n",
    "for k in range(1, 10):\n",
    "    truncation = (U[:, :k] * S[None, :k]) @ V[:k, :]\n",
    "    svd_K.append(round(float(F.mse_loss(torch.tensor(truncation), torch.tensor(K))), 5))\n",
    "print(svd_K)"
   ]
  },
  {
   "cell_type": "code",
   "execution_count": 4,
   "id": "ee2389e1",
   "metadata": {},
   "outputs": [
    {
     "name": "stderr",
     "output_type": "stream",
     "text": [
      "100%|██████████████████████████████████████████████████████████████████████████████████████████████████████████████████████████████████████████████████| 10001/10001 [00:34<00:00, 285.91it/s]\n"
     ]
    },
    {
     "data": {
      "text/plain": [
       "<symfac.experimental.rbf_expansion_plus.RBFExpansionPlus at 0x7f49b6e57910>"
      ]
     },
     "execution_count": 4,
     "metadata": {},
     "output_type": "execute_result"
    }
   ],
   "source": [
    "torch.manual_seed(15513512)\n",
    "\n",
    "K = rbf(u) - rbf(v)\n",
    "\n",
    "fac = RBFExpansionPlus(\n",
    "    k=3,\n",
    "    batch_size=512,\n",
    "    max_steps=10001,\n",
    ")\n",
    "\n",
    "component_history = []\n",
    "\n",
    "def component_history_callback(step, model):\n",
    "    if step in [0, 1, 10, 100, 1000, 10000]:\n",
    "        component_history.append(dict(\n",
    "            step=step,\n",
    "            model=dill.loads(dill.dumps(model))\n",
    "        ))\n",
    "\n",
    "fac.fith(\n",
    "    K.astype(np.float32),\n",
    "    plugins=[\n",
    "        dict(\n",
    "            every=1,\n",
    "            requires=['step', 'model'],\n",
    "            callback=component_history_callback\n",
    "        )\n",
    "    ],\n",
    "    u0=0.1 * torch.randn(fac.batch_size, n, fac.k),\n",
    ")"
   ]
  },
  {
   "cell_type": "code",
   "execution_count": 5,
   "id": "396d3369",
   "metadata": {
    "scrolled": false
   },
   "outputs": [
    {
     "name": "stderr",
     "output_type": "stream",
     "text": [
      "/tmp/ipykernel_1799341/1397850543.py:12: UserWarning: Matplotlib is currently using pgf, which is a non-GUI backend, so cannot show the figure.\n",
      "  plt.show()\n"
     ]
    },
    {
     "name": "stdout",
     "output_type": "stream",
     "text": [
      "tensor([-1.0000e+00, -1.0153e-08,  1.0000e+00], device='cuda:0')\n"
     ]
    },
    {
     "name": "stderr",
     "output_type": "stream",
     "text": [
      "/tmp/ipykernel_1799341/1397850543.py:31: UserWarning: Matplotlib is currently using pgf, which is a non-GUI backend, so cannot show the figure.\n",
      "  plt.show()\n"
     ]
    }
   ],
   "source": [
    "best_run = np.argmin(fac.report.loss_best)\n",
    "\n",
    "print(fac.optimum.a[best_run, :])\n",
    "\n",
    "plt.plot(fac.report.loss_history_ticks, fac.report.loss_history[:, best_run])\n",
    "plt.xscale('log')\n",
    "plt.yscale('log')\n",
    "xticks = 2**np.arange(11)\n",
    "plt.gca().set_xticks(xticks)\n",
    "plt.gca().set_xticklabels(xticks)\n",
    "plt.title('Loss of the best run')\n",
    "plt.show()\n",
    "\n",
    "fig, axs = plt.subplots(len(component_history), 2, figsize=(10, 4 * len(component_history)))\n",
    "\n",
    "for snapshot, axrow in zip(component_history, axs):\n",
    "    step = snapshot['step']\n",
    "    model = snapshot['model']\n",
    "    axrow[0].set_title(f'Step {step}')\n",
    "    im = axrow[0].imshow(\n",
    "        model(runs=best_run, device='cpu', grad_on=False),\n",
    "        vmin=-1, vmax=1\n",
    "    )\n",
    "    plt.colorbar(mappable=im, ax=axrow[0])\n",
    "    axrow[1].plot(u, ls=(2, (3, 6)))\n",
    "    axrow[1].plot(v, ls=(2, (3, 6)))\n",
    "    axrow[1].plot(model.u[best_run, :, 0].detach().cpu() * fac.optimum.a[best_run, 0].item(), label='comp1')\n",
    "    axrow[1].plot(model.u[best_run, :, 1].detach().cpu() * fac.optimum.a[best_run, 1].item(), label='comp2')\n",
    "    axrow[1].plot(model.u[best_run, :, 2].detach().cpu() * fac.optimum.a[best_run, 2].item(), label='comp3')\n",
    "    axrow[1].legend()\n",
    "plt.show()"
   ]
  },
  {
   "cell_type": "code",
   "execution_count": 6,
   "id": "c2ef4059",
   "metadata": {
    "format": "row",
    "scrolled": false
   },
   "outputs": [
    {
     "name": "stderr",
     "output_type": "stream",
     "text": [
      "/tmp/ipykernel_1799341/1929343541.py:79: UserWarning: Matplotlib is currently using pgf, which is a non-GUI backend, so cannot show the figure.\n",
      "  plt.show()\n"
     ]
    }
   ],
   "source": [
    "fig = SuperFigure(figsize=(__WIDTH__, __HEIGHT__), dpi=300)\n",
    "ax_canvas = fig.make_axes(\n",
    "    left=0, right=1, top=0, bottom=1, zorder=-100,\n",
    "    style='blank' if __PRODUCTION__ else None\n",
    ")\n",
    "ax_canvas.set_xlim([0, 1])\n",
    "ax_canvas.set_ylim([0, 1])\n",
    "\n",
    "# draw the axes grid\n",
    "x0 = 0.01\n",
    "dx = 0.25\n",
    "w = 0.23\n",
    "axs = [\n",
    "    fig.make_axes(\n",
    "        left=x0 + dx * i,\n",
    "        width=w,\n",
    "        top=0.2,\n",
    "        width_to_height=1.0,\n",
    "        style='modern'\n",
    "    ) for i in range(4)\n",
    "]\n",
    "\n",
    "def svd_reconstruction(k):\n",
    "    U, S, V = np.linalg.svd(K)\n",
    "    return torch.tensor((U[:, :k] * S[None, :k]) @ V[:k, :])\n",
    "\n",
    "image_style = dict(\n",
    "    cmap='Spectral',\n",
    "    vmin=-1,\n",
    "    vmax=1\n",
    ")\n",
    "axs[0].imshow(K, **image_style)\n",
    "axs[1].imshow(svd_reconstruction(1), **image_style)\n",
    "axs[2].imshow(svd_reconstruction(2), **image_style)\n",
    "axs[3].imshow(svd_reconstruction(4), **image_style)\n",
    "\n",
    "title_style = dict(\n",
    "    fontsize=7,\n",
    "    y=0.96,\n",
    "    va='bottom'\n",
    ")\n",
    "axs[0].set_title(r'\\textbf{Difference of 2 Components}', **title_style)\n",
    "axs[1].set_title(r'\\textbf{Rank-1}', **title_style)\n",
    "axs[2].set_title(r'\\textbf{Rank-2}', **title_style)\n",
    "axs[3].set_title(r'\\textbf{Rank-4}', **title_style)\n",
    "\n",
    "for ax in axs:\n",
    "    ax.patch.set_facecolor('w')\n",
    "    ax.set_xticks([])\n",
    "    ax.set_yticks([])\n",
    "\n",
    "ax_group_rbf = fig.make_axes(\n",
    "    left=axs[0].left, right=axs[0].right, top=0, bottom=1,\n",
    "    style='blank', zorder=-10\n",
    ")\n",
    "ax_group_svd = fig.make_axes(\n",
    "    left=axs[1].left, right=axs[3].right, top=0, bottom=1,\n",
    "    style='blank', zorder=-10\n",
    ")\n",
    "for ax_group in [ax_group_rbf, ax_group_svd]:\n",
    "    ax_group.axhline(\n",
    "        0.9,\n",
    "        lw=0.5,\n",
    "        color='k',\n",
    "    )\n",
    "group_text_style = dict(\n",
    "    fontsize=8,\n",
    "    ha='center',\n",
    "    va='bottom',\n",
    ")\n",
    "ax_group_rbf.text(0.5, 0.92, r'\\textbf{RBF Matrix}', **group_text_style)\n",
    "ax_group_svd.text(0.5, 0.92, r'\\textbf{SVD Reconstruction}', **group_text_style)\n",
    "\n",
    "\n",
    "if __PRODUCTION__:\n",
    "    fig.savefig(f'pgf/{__NAME__}.pgf', dpi=300)\n",
    "else:\n",
    "    fig.savefig(f'svg/{__NAME__}.svg', dpi=300)\n",
    "plt.show()"
   ]
  },
  {
   "cell_type": "code",
   "execution_count": 7,
   "id": "e6287145",
   "metadata": {},
   "outputs": [
    {
     "name": "stdout",
     "output_type": "stream",
     "text": [
      "Successfully created fig-motivation.pdf\r\n"
     ]
    }
   ],
   "source": [
    "!make -f Makefile.figures fig-\"$__NAME__\".pdf 2>&1 | tail -n 1"
   ]
  },
  {
   "cell_type": "markdown",
   "id": "dfaa1aee",
   "metadata": {},
   "source": [
    "# Sandbox below\n",
    "\n",
    "---"
   ]
  }
 ],
 "metadata": {
  "kernelspec": {
   "display_name": "mplmagic2",
   "language": "python",
   "name": "mplmagic2"
  },
  "language_info": {
   "codemirror_mode": {
    "name": "ipython",
    "version": 3
   },
   "file_extension": ".py",
   "mimetype": "text/x-python",
   "name": "python",
   "nbconvert_exporter": "python",
   "pygments_lexer": "ipython3",
   "version": "3.8.10"
  }
 },
 "nbformat": 4,
 "nbformat_minor": 5
}
