{
 "cells": [
  {
   "cell_type": "code",
   "execution_count": 1,
   "id": "a04ff536",
   "metadata": {},
   "outputs": [
    {
     "name": "stdout",
     "output_type": "stream",
     "text": [
      "Defaulting to user installation because normal site-packages is not writeable\n",
      "Looking in indexes: https://pypi.fury.io/tang/, https://pypi.python.org/simple\n",
      "Requirement already satisfied: symfac in /home/symfac/.local/lib/python3.8/site-packages (0.5.3)\n",
      "Requirement already satisfied: numpy>=1.17 in /usr/lib64/python3.8/site-packages (from symfac) (1.18.4)\n",
      "Requirement already satisfied: deap>=1.3 in /home/symfac/.local/lib/python3.8/site-packages (from symfac) (1.3.1)\n",
      "Requirement already satisfied: torch>=1.7 in /home/symfac/.local/lib/python3.8/site-packages (from symfac) (1.8.1)\n",
      "Requirement already satisfied: treelib>=1.6tqdm>=4.55 in /home/symfac/.local/lib/python3.8/site-packages (from symfac) (1.6.1)\n",
      "Requirement already satisfied: typing-extensions in /home/symfac/.local/lib/python3.8/site-packages (from torch>=1.7->symfac) (3.10.0.0)\n",
      "Requirement already satisfied: future in /usr/lib/python3.8/site-packages (from treelib>=1.6tqdm>=4.55->symfac) (0.18.2)\n",
      "\u001b[33mWARNING: You are using pip version 21.1.1; however, version 21.1.2 is available.\n",
      "You should consider upgrading via the '/usr/bin/python3 -m pip install --upgrade pip' command.\u001b[0m\n"
     ]
    }
   ],
   "source": [
    "!pip install --pre --index-url https://pypi.fury.io/tang/ --extra-index-url https://pypi.python.org/simple symfac\n",
    "        "
   ]
  },
  {
   "cell_type": "code",
   "execution_count": 1,
   "id": "e88a64da",
   "metadata": {},
   "outputs": [],
   "source": [
    "%matplotlib inline\n",
    "%config InlineBackend.figure_format = 'retina'\n",
    "import matplotlib.pyplot as plt\n",
    "\n",
    "import torch\n",
    "from symfac.experimental.rbf_expansion import RBFExpansion\n",
    "import functools\n",
    "import numpy as np\n",
    "from scipy.ndimage import gaussian_filter1d\n",
    "from torch import optim\n",
    "import torch.nn.functional as F\n",
    "import matplotlib.pyplot as plt\n",
    "from symfac.geneprog import PrimitiveSet\n",
    "import networkx as nx"
   ]
  },
  {
   "cell_type": "code",
   "execution_count": 2,
   "id": "7992c09e",
   "metadata": {},
   "outputs": [],
   "source": [
    "def funk(u, v):\n",
    "    return np.exp(-np.subtract.outer(u, v)**2)"
   ]
  },
  {
   "cell_type": "code",
   "execution_count": 67,
   "id": "db4616e1",
   "metadata": {},
   "outputs": [],
   "source": [
    "n = 32\n",
    "np.random.seed(0)\n",
    "u =np.random.rand(n)\n",
    "UU = gaussian_filter1d(u, .5, order=0)"
   ]
  },
  {
   "cell_type": "code",
   "execution_count": 63,
   "id": "33fd5ce1",
   "metadata": {},
   "outputs": [],
   "source": [
    "N = 32\n",
    "mu, sigma = 0, np.sqrt(N) # mean and standard deviation\n",
    "s = np.random.normal(mu, sigma, N)\n",
    "UU=s"
   ]
  },
  {
   "cell_type": "code",
   "execution_count": 68,
   "id": "f990ef48",
   "metadata": {},
   "outputs": [
    {
     "data": {
      "text/plain": [
       "<matplotlib.image.AxesImage at 0x7fc05fbc3460>"
      ]
     },
     "execution_count": 68,
     "metadata": {},
     "output_type": "execute_result"
    },
    {
     "data": {
      "image/png": "[encoded data removed]",
      "text/plain": [
       "<Figure size 432x288 with 1 Axes>"
      ]
     },
     "metadata": {
      "image/png": {
       "height": 248,
       "width": 251
      },
      "needs_background": "light"
     },
     "output_type": "display_data"
    }
   ],
   "source": [
    "K = funk(np.array(UU), np.array(UU))\n",
    "plt.imshow(K)\n",
    "#plt.savefig(\"K_original.png\")\n",
    "#files.download(\"K_original.png\")"
   ]
  },
  {
   "cell_type": "code",
   "execution_count": 46,
   "id": "d1528cbb",
   "metadata": {},
   "outputs": [],
   "source": [
    "U, S, V = np.linalg.svd(K)\n",
    "svd_K = []\n",
    "for k in range(1,10):\n",
    "    truncation = (U[:, :k] * S[None, :k]) @ V[:k, :]\n",
    "    svd_K.append(round(float(F.mse_loss(torch.tensor(truncation), torch.tensor(K))), 5))"
   ]
  },
  {
   "cell_type": "code",
   "execution_count": 47,
   "id": "1ec79117",
   "metadata": {},
   "outputs": [
    {
     "data": {
      "text/plain": [
       "[0.03411,\n",
       " 0.02857,\n",
       " 0.02424,\n",
       " 0.02075,\n",
       " 0.01771,\n",
       " 0.01491,\n",
       " 0.01252,\n",
       " 0.01085,\n",
       " 0.00921]"
      ]
     },
     "execution_count": 47,
     "metadata": {},
     "output_type": "execute_result"
    }
   ],
   "source": [
    "svd_K"
   ]
  },
  {
   "cell_type": "code",
   "execution_count": null,
   "id": "99eebb9c",
   "metadata": {},
   "outputs": [],
   "source": []
  }
 ],
 "metadata": {
  "kernelspec": {
   "display_name": "Python 3",
   "language": "python",
   "name": "python3"
  },
  "language_info": {
   "codemirror_mode": {
    "name": "ipython",
    "version": 3
   },
   "file_extension": ".py",
   "mimetype": "text/x-python",
   "name": "python",
   "nbconvert_exporter": "python",
   "pygments_lexer": "ipython3",
   "version": "3.8.9"
  }
 },
 "nbformat": 4,
 "nbformat_minor": 5
}
