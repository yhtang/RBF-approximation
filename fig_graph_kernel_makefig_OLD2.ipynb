{
 "cells": [
  {
   "cell_type": "code",
   "execution_count": 1,
   "id": "5fb8da5f",
   "metadata": {
    "format": "column"
   },
   "outputs": [
    {
     "name": "stdout",
     "output_type": "stream",
     "text": [
      "This is how much space the figure will take up on letter paper\n"
     ]
    }
   ],
   "source": [
    "__PRODUCTION__ = 1\n",
    "__NAME__       = 'efficiency-grpah-kernel'\n",
    "__WIDTH__      = 5.5  # NeurIPS 2021 text box width\n",
    "__HEIGHT__     = 1.8\n",
    "\n",
    "if __PRODUCTION__:\n",
    "    from mplmagic2 import pgf\n",
    "else:\n",
    "    from mplmagic2 import svg\n",
    "\n",
    "from mplmagic2 import SuperFigure, tex\n",
    "import matplotlib.pyplot as plt\n",
    "from matplotlib import patches\n",
    "import matplotlib.patheffects as path_effects\n",
    "\n",
    "print('This is how much space the figure will take up on letter paper')\n",
    "SuperFigure.size_hint(__WIDTH__, __HEIGHT__, margin_left=0.5 * (8.5 - __WIDTH__));"
   ]
  },
  {
   "cell_type": "code",
   "execution_count": 2,
   "id": "0d6c358f",
   "metadata": {
    "format": "column"
   },
   "outputs": [],
   "source": [
    "import functools\n",
    "import numpy as np\n",
    "import colorsys\n",
    "from scipy.ndimage import gaussian_filter1d\n",
    "from scipy.spatial.distance import cdist\n",
    "import torch\n",
    "import torch.nn.functional as F\n",
    "from torch import optim\n",
    "import networkx as nx\n",
    "import json\n",
    "import pickle\n",
    "import matplotlib\n",
    "\n",
    "from symfac.experimental import RBFExpansionV2"
   ]
  },
  {
   "cell_type": "code",
   "execution_count": 3,
   "id": "f6c17c47",
   "metadata": {
    "format": "column"
   },
   "outputs": [
    {
     "name": "stderr",
     "output_type": "stream",
     "text": [
      "<ipython-input-3-0a4f1db08579>:2: UserWarning: To copy construct from a tensor, it is recommended to use sourceTensor.clone().detach() or sourceTensor.clone().detach().requires_grad_(True), rather than torch.tensor(sourceTensor).\n",
      "  target = torch.tensor(d_tensor, dtype=torch.float)\n"
     ]
    }
   ],
   "source": [
    "d_tensor = torch.load('data/paper/d1')\n",
    "target = torch.tensor(d_tensor, dtype=torch.float)"
   ]
  },
  {
   "cell_type": "code",
   "execution_count": 4,
   "id": "f974ff2d",
   "metadata": {},
   "outputs": [],
   "source": [
    "gd_10_losses, gd_10_times  = pickle.loads(open('gd_10.pickle', 'rb').read())\n",
    "sgd_long_losses, sgd_long_times  = pickle.loads(open('sgd_long.pickle', 'rb').read())\n",
    "sgd_10_losses, sgd_10_times  = pickle.loads(open('sgd_10.pickle', 'rb').read())\n",
    "sgd_full  = pickle.loads(open('sgd_full.pickle', 'rb').read())"
   ]
  },
  {
   "cell_type": "code",
   "execution_count": 5,
   "id": "9705173e",
   "metadata": {},
   "outputs": [],
   "source": [
    "sgd_full_13  = pickle.loads(open('sgd_full_13.pickle', 'rb').read())\n",
    "sgd_full_14  = pickle.loads(open('sgd_full_14.pickle', 'rb').read())\n",
    "sgd_full_15  = pickle.loads(open('sgd_full_15.pickle', 'rb').read())\n",
    "sgd_full_16  = pickle.loads(open('sgd_full_16.pickle', 'rb').read())"
   ]
  },
  {
   "cell_type": "code",
   "execution_count": 6,
   "id": "52176ef2",
   "metadata": {},
   "outputs": [
    {
     "data": {
      "text/plain": [
       "[0.0061504,\n",
       " 0.0041449,\n",
       " 0.0023808,\n",
       " 0.0012769,\n",
       " 0.0005753,\n",
       " 0.0002058,\n",
       " 7.15e-05,\n",
       " 4.47e-05]"
      ]
     },
     "execution_count": 6,
     "metadata": {},
     "output_type": "execute_result"
    }
   ],
   "source": [
    "sgd_full_16"
   ]
  },
  {
   "cell_type": "code",
   "execution_count": 7,
   "id": "057ce8d2",
   "metadata": {},
   "outputs": [],
   "source": [
    "sgd_average = [1/5*(sgd_full[t] + sgd_full_13[t] + sgd_full_14[t] + sgd_full_15[t]+ sgd_full_16[t]) for t in range(len(sgd_full))]"
   ]
  },
  {
   "cell_type": "code",
   "execution_count": 8,
   "id": "4c9681e3",
   "metadata": {
    "scrolled": true
   },
   "outputs": [],
   "source": [
    "#gk_losses = pickle.loads(open('data/paper/gk_losses_2.pickle', 'rb').read())\n",
    "#gkl_losses = pickle.loads(open('data/paper/gk_long_losses.pickle', 'rb').read())\n"
   ]
  },
  {
   "cell_type": "code",
   "execution_count": 9,
   "id": "7da1f8a6",
   "metadata": {},
   "outputs": [],
   "source": [
    "def find_svd(X,s):\n",
    "    U, S, V = np.linalg.svd(X.detach().numpy())\n",
    "    return round(float(F.mse_loss(torch.tensor((U[:, :s] * S[None, :s]) @ V[:s, :]), X)), 7)"
   ]
  },
  {
   "cell_type": "code",
   "execution_count": 10,
   "id": "17c8a4e3",
   "metadata": {},
   "outputs": [],
   "source": [
    "s_vals = []\n",
    "for s in range(1, target.shape[0]):\n",
    "    s_vals.append(find_svd(target, s))"
   ]
  },
  {
   "cell_type": "code",
   "execution_count": 11,
   "id": "f7b96e3b",
   "metadata": {},
   "outputs": [],
   "source": [
    "svd_10_losses = s_vals[:10]"
   ]
  },
  {
   "cell_type": "code",
   "execution_count": 12,
   "id": "9ef9edc9",
   "metadata": {},
   "outputs": [
    {
     "data": {
      "text/plain": [
       "[0, 1, 3, 7, 15, 31, 63, 127]"
      ]
     },
     "execution_count": 12,
     "metadata": {},
     "output_type": "execute_result"
    }
   ],
   "source": [
    "checkpoints = [1,2,4,8,16,32,64,128]\n",
    "checkpoints = [t - 1 for t in checkpoints]\n",
    "checkpoints"
   ]
  },
  {
   "cell_type": "code",
   "execution_count": 13,
   "id": "2b0b0cd1",
   "metadata": {},
   "outputs": [
    {
     "data": {
      "text/plain": [
       "[0, 1, 3, 7, 15, 31, 63, 127]"
      ]
     },
     "execution_count": 13,
     "metadata": {},
     "output_type": "execute_result"
    }
   ],
   "source": [
    "checkpoints"
   ]
  },
  {
   "cell_type": "code",
   "execution_count": 14,
   "id": "a70bf72c",
   "metadata": {},
   "outputs": [],
   "source": [
    "svd_full = [s_vals[t] for t in checkpoints]"
   ]
  },
  {
   "cell_type": "code",
   "execution_count": 15,
   "id": "a62f14b8",
   "metadata": {},
   "outputs": [
    {
     "data": {
      "text/plain": [
       "[0.0115783,\n",
       " 0.0070272,\n",
       " 0.0042515,\n",
       " 0.0036036,\n",
       " 0.0030903,\n",
       " 0.0027092,\n",
       " 0.0024542,\n",
       " 0.0022272,\n",
       " 0.0020658,\n",
       " 0.0019309]"
      ]
     },
     "execution_count": 15,
     "metadata": {},
     "output_type": "execute_result"
    }
   ],
   "source": [
    "svd_10_losses"
   ]
  },
  {
   "cell_type": "code",
   "execution_count": 16,
   "id": "d1439248",
   "metadata": {},
   "outputs": [
    {
     "data": {
      "text/plain": [
       "[0.0115783,\n",
       " 0.0070272,\n",
       " 0.0036036,\n",
       " 0.0022272,\n",
       " 0.0014486,\n",
       " 0.0009935,\n",
       " 0.0006326,\n",
       " 0.0003174]"
      ]
     },
     "execution_count": 16,
     "metadata": {},
     "output_type": "execute_result"
    }
   ],
   "source": [
    "svd_full"
   ]
  },
  {
   "cell_type": "code",
   "execution_count": 17,
   "id": "76a9f353",
   "metadata": {},
   "outputs": [],
   "source": [
    "fig = SuperFigure(figsize=(4, 4))\n",
    "ax = fig.make_axes(0, 1, 0, 1)\n",
    "ax.plot(np.arange(10) + 1, svd_10_losses)\n",
    "ax.plot(np.array(checkpoints)[:4] + 1, svd_full[:4])\n",
    "ax.set_xscale('log')\n",
    "ax.set_yscale('log')\n",
    "plt.show()"
   ]
  },
  {
   "cell_type": "code",
   "execution_count": 22,
   "id": "5f2bc1c6",
   "metadata": {
    "format": "column"
   },
   "outputs": [],
   "source": [
    "fig = SuperFigure(plt.figure(figsize=(__WIDTH__, __HEIGHT__), dpi=300))\n",
    "ax_canvas = fig.make_axes(\n",
    "    left=0, right=1, top=0, bottom=1, zorder=-100,\n",
    "    style='blank' if __PRODUCTION__ else None\n",
    ")\n",
    "ax_canvas.set_xlim([0, 1])\n",
    "ax_canvas.set_ylim([0, 1])\n",
    "\n",
    "# draw the axes grid\n",
    "x0 = 0.01\n",
    "dx = 0.255\n",
    "dx2 = 0.01\n",
    "w = 0.205\n",
    "axs = [\n",
    "    fig.make_axes(\n",
    "        #left=x0 + dx * i - dx2*(i//3),\n",
    "        left=x0 + dx * i + (dx2 if i >= 2 else 0),\n",
    "        width=w,\n",
    "        top=0.165,\n",
    "        width_to_height=1.0,\n",
    "        style='modern'\n",
    "    ) for i in range(4)\n",
    "]\n",
    "\n",
    "def draw_bars(ax, h, offset, **kwargs):\n",
    "    ax.bar(np.arange(len(h)) + offset, h, **kwargs)\n",
    "\n",
    "image_style = dict(\n",
    "    vmin=0,\n",
    "    vmax=1,\n",
    "    cmap='Spectral'\n",
    ")\n",
    "plot_style = dict(\n",
    "    lw=0.75,\n",
    "    marker='o',\n",
    "    markersize=2.5\n",
    ")\n",
    "svd_style = dict(\n",
    "    color='#404040',\n",
    ")\n",
    "rbf_style = dict(\n",
    "    color='#2080FF',\n",
    ")\n",
    "srbf_style = dict(\n",
    "    color='#FF4060',\n",
    ")\n",
    "\n",
    "\n",
    "axs[0].imshow(target, **image_style)\n",
    "\n",
    "axs[1].plot(checkpoints, sgd_average, **plot_style, **srbf_style)\n",
    "axs[1].plot(checkpoints, svd_full, **plot_style, **svd_style)\n",
    "\n",
    "axs[2].plot(range(1, 11), svd_10_losses, **plot_style, **svd_style)\n",
    "axs[2].plot(range(1, 11), gd_10_losses, **plot_style, **rbf_style)\n",
    "axs[2].plot(range(1, 11), sgd_10_losses, **plot_style, **srbf_style)\n",
    "\n",
    "bar_width = 0.25\n",
    "bar_style = dict(\n",
    "    width = bar_width\n",
    ")\n",
    "# draw_bars(axs[3], [gd_10_times[t]/sgd_10_times[t] for t in range(10)], -0.5 * bar_width, **bar_style, **srbf_style)\n",
    "draw_bars(axs[3], [gd_10_times[t] for t in range(10)], -0.5 * bar_width, **bar_style, **rbf_style)\n",
    "draw_bars(axs[3], [sgd_10_times[t] for t in range(10)], 0.5 * bar_width, **bar_style, **srbf_style)\n",
    "# draw_bars(axs[3], data['times']['rbf'], 0.5 * bar_width, **bar_style, **rbf_style)\n",
    "\n",
    "\n",
    "title_style = dict(\n",
    "    fontsize=8,\n",
    "    y=0.945,\n",
    "    va='bottom'\n",
    ")\n",
    "\n",
    "tick_style = dict(\n",
    "    fontsize=7,\n",
    ")\n",
    "xlabel_style = dict(\n",
    "    fontsize=8,\n",
    "    labelpad=1.0,\n",
    ")\n",
    "ylabel_style = dict(\n",
    "    fontsize=8,\n",
    "    labelpad=0.75,\n",
    ")\n",
    "\n",
    "ticks = [0,250]\n",
    "axs[0].set_xbound(lower=0, upper=250)\n",
    "axs[0].set_ybound(lower=0, upper=250)\n",
    "axs[0].set_xticks(ticks)\n",
    "axs[0].set_yticks([])\n",
    "axs[0].set_xticklabels(['%d' % x for x in [0, 250]], **tick_style)\n",
    "axs[0].set_xlabel('Molecule ID', **xlabel_style)\n",
    "\n",
    "for ax in axs[1:2]:\n",
    "    ax.plot(\n",
    "        [1.05, 8, 8, 1.05, 1.05],\n",
    "        [1e-3, 1e-3, 0.98e-2, 0.98e-2, 1e-3],\n",
    "        color='k',\n",
    "        lw=0.5,\n",
    "        ls=(2, (1, 3)),\n",
    "        dash_capstyle='round'\n",
    "    )\n",
    "    polygon_style = dict(\n",
    "        edgecolor='none',\n",
    "        clip_on=False,\n",
    "    )\n",
    "    ax.add_patch(\n",
    "        patches.Rectangle(\n",
    "            (1.03, 1e-3),\n",
    "            8 - 1.03, 1e-2 - 1e-3,\n",
    "            facecolor='#E0E0E0',\n",
    "            **polygon_style\n",
    "        )\n",
    "    )\n",
    "    ax.add_patch(\n",
    "        patches.FancyArrow(\n",
    "            8, 1.5 * 1e-5**0.5, 512, 0,\n",
    "            width=0.00025,\n",
    "            head_width=0.0015,\n",
    "            head_length=80,\n",
    "            facecolor='#404040',\n",
    "            length_includes_head=True,\n",
    "            **polygon_style\n",
    "        )\n",
    "    )\n",
    "\n",
    "    # extra_ticks = np.linspace(-1, -3, 3)\n",
    "#     for j, ref in enumerate([1e-2, 1e-3]):\n",
    "#         r_rbf, r_svd = (\n",
    "#             np.flatnonzero(np.array(sgd_average) <= ref)[0] + 1,\n",
    "#             np.flatnonzero(np.array(svd_full) <= ref)[0] + 1\n",
    "#         )\n",
    "#         ax.axhline(\n",
    "#             ref,\n",
    "#             color='w',\n",
    "#             lw=0.5,\n",
    "#             ls=(2, (1.7, 3.1)),\n",
    "#             dash_capstyle='round',\n",
    "#             zorder=30\n",
    "#         )\n",
    "#         ax.text(\n",
    "#             128, ref * 0.8, f'RBF {r_rbf} / {r_svd} SVD  ',\n",
    "#             ha='right',\n",
    "#             va='top',\n",
    "#             fontsize=7,\n",
    "#             zorder=20,\n",
    "#             path_effects=[\n",
    "#                 path_effects.Stroke(linewidth=1.5, foreground='w'),\n",
    "#                 path_effects.Normal()\n",
    "#             ]        \n",
    "#         )\n",
    "#         patch_w = 32\n",
    "#         ax.add_patch(\n",
    "#             patches.Rectangle(\n",
    "#                 (128 - patch_w, ref * 0.25), patch_w, 0.75 * ref,\n",
    "#                 color='w',\n",
    "#                 alpha=0.8,\n",
    "#                 zorder=10\n",
    "#             ),\n",
    "#         )\n",
    "            \n",
    "    ax.set_xscale('log', base=2)\n",
    "    ax.set_yscale('log', base=10)\n",
    "    ax.minorticks_off()\n",
    "    xticks = np.arange(8)\n",
    "    yticks = np.linspace(-5, -2, 4)\n",
    "    ax.set_xbound(lower=2**xticks.min(), upper=2**xticks.max())\n",
    "    ax.set_ybound(lower=10**yticks.min(), upper=10**yticks.max())\n",
    "    ax.set_xticks(2**xticks)\n",
    "    ax.set_yticks(10**yticks)\n",
    "    ax.set_xticklabels([fr'{2**t:.0f}' for t in xticks], **tick_style)\n",
    "    ax.set_yticklabels([fr'${tex.pow(10, int(t))}$' for t in yticks], **tick_style)\n",
    "    ax.set_xlabel('Components', **xlabel_style)\n",
    "    ax.set_ylabel('MSE Loss', **ylabel_style)\n",
    "\n",
    "for ax in axs[2:3]:\n",
    "    ax.set_yscale('log', base=10)\n",
    "    ax.minorticks_off()\n",
    "    xticks = np.arange(1, 11)\n",
    "    yticks = np.linspace(-3, -2, 2) \n",
    "    ax.set_xbound(lower=xticks.min(), upper=xticks.max())\n",
    "    ax.set_ybound(lower=0.5 * 10**yticks.min(), upper=10**yticks.max())\n",
    "    ax.set_xticks(xticks)\n",
    "    ax.set_yticks(10**yticks)\n",
    "    ax.set_xticklabels(['%d' % x for x in xticks], **tick_style)\n",
    "    ax.set_yticklabels([fr'${tex.pow(10, int(t))}$' for t in yticks], **tick_style)\n",
    "    ax.set_xlabel('Components', **xlabel_style)\n",
    "    ax.set_ylabel('MSE Loss', **ylabel_style)\n",
    "    \n",
    "for ax in axs[3:4]:\n",
    "    xticks = np.arange(1, 9)\n",
    "    # yticks = [1,2,3,4]\n",
    "    yticks = np.linspace(0, 50, 6)\n",
    "    ax.set_xbound(lower=xticks.min() - 0.5, upper=xticks.max() + 0.5)\n",
    "    ax.set_ybound(lower=yticks.min(), upper=yticks.max())\n",
    "\n",
    "    ax.set_xticks(xticks)\n",
    "    ax.set_yticks(yticks)\n",
    "    ax.set_xticklabels(['%d' % x for x in xticks], **tick_style)\n",
    "    ax.set_yticklabels(['%d' % y for y in yticks], **tick_style)\n",
    "    ax.set_xlabel('Components', **xlabel_style)\n",
    "    ax.set_ylabel('Time (s)', **ylabel_style)\n",
    "\n",
    "for ax in axs[1:]:\n",
    "    ax.tick_params(\n",
    "        axis='y', which='both', length=1, direction='in', pad=1\n",
    "    )\n",
    "\n",
    "axs[0].set_title(r'\\textbf{Molecular Distance}', **title_style)\n",
    "axs[1].set_title(r'\\textbf{Accuracy}', **title_style)\n",
    "axs[2].set_title(r'Accuracy', **title_style)\n",
    "axs[3].set_title(r'Time to Accuracy', **title_style)\n",
    "\n",
    "ax_zoomin = fig.make_axes(\n",
    "    left=axs[2].left,\n",
    "    right=axs[3].right,\n",
    "    top=0,\n",
    "    bottom=1,\n",
    "    style='blank'\n",
    ")\n",
    "ax_zoomin.set_xlim([0, 1])\n",
    "ax_zoomin.set_ylim([0, 1])\n",
    "overtitle_style = dict(\n",
    "    fontsize=8,\n",
    "    va='top',\n",
    "    ha='center'\n",
    ")\n",
    "ax_zoomin.text(\n",
    "    0.5, 0.985,\n",
    "    r'\\textbf{Comparison of GD and SGD} (k$\\leq$8)',\n",
    "    **overtitle_style,\n",
    ")\n",
    "ax_zoomin.axhline(0.915, lw=0.5, color='k')\n",
    "\n",
    "ax_canvas.bar([-1], [0], **bar_style, **svd_style, label='SVD')\n",
    "ax_canvas.bar([-1], [0], **bar_style, **rbf_style, label='RBF by GD')\n",
    "ax_canvas.bar([-1], [0], **bar_style, **srbf_style, label='RBF by SGD')\n",
    "ax_canvas.legend(\n",
    "    loc='upper center',\n",
    "    bbox_to_anchor=(0.5, 0.09),\n",
    "    ncol=3,\n",
    "    frameon=False,\n",
    "    fontsize=6\n",
    ")\n",
    "\n",
    "if __PRODUCTION__:\n",
    "    fig.savefig(f'pgf/{__NAME__}.pgf', dpi=300)\n",
    "else:\n",
    "    fig.savefig(f'svg/{__NAME__}.svg', dpi=300)\n",
    "plt.show()"
   ]
  },
  {
   "cell_type": "code",
   "execution_count": 23,
   "id": "0e94b42b",
   "metadata": {},
   "outputs": [
    {
     "name": "stdout",
     "output_type": "stream",
     "text": [
      "Successfully created fig-efficiency-grpah-kernel.pdf\r\n"
     ]
    }
   ],
   "source": [
    "!make -f Makefile.figures fig-\"$__NAME__\".pdf 2>&1 | tail -n 1"
   ]
  },
  {
   "cell_type": "markdown",
   "id": "bfadaae0",
   "metadata": {},
   "source": [
    "END\n",
    "---"
   ]
  }
 ],
 "metadata": {
  "kernelspec": {
   "display_name": "mplmagic2",
   "language": "python",
   "name": "mplmagic2"
  },
  "language_info": {
   "codemirror_mode": {
    "name": "ipython",
    "version": 3
   },
   "file_extension": ".py",
   "mimetype": "text/x-python",
   "name": "python",
   "nbconvert_exporter": "python",
   "pygments_lexer": "ipython3",
   "version": "3.8.10"
  }
 },
 "nbformat": 4,
 "nbformat_minor": 5
}
