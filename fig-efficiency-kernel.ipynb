{
 "cells": [
  {
   "cell_type": "code",
   "execution_count": 1,
   "id": "5fb8da5f",
   "metadata": {},
   "outputs": [
    {
     "name": "stdout",
     "output_type": "stream",
     "text": [
      "This is how much space the figure will take up on letter paper\n"
     ]
    }
   ],
   "source": [
    "__PRODUCTION__ = 1\n",
    "__NAME__       = 'efficiency-ker'\n",
    "__WIDTH__      = 5.5  # NeurIPS 2021 text box width\n",
    "__HEIGHT__     = 1.8\n",
    "\n",
    "if __PRODUCTION__:\n",
    "    from mplmagic import pgf\n",
    "else:\n",
    "    from mplmagic import svg\n",
    "\n",
    "from mplmagic.util import SuperFigure, SuperAxes, size_hint\n",
    "import matplotlib.pyplot as plt\n",
    "\n",
    "print('This is how much space the figure will take up on letter paper')\n",
    "size_hint(__WIDTH__, __HEIGHT__, margin_left=0.5 * (8.5 - __WIDTH__));"
   ]
  },
  {
   "cell_type": "code",
   "execution_count": 2,
   "id": "0d6c358f",
   "metadata": {},
   "outputs": [],
   "source": [
    "import functools\n",
    "import numpy as np\n",
    "import colorsys\n",
    "from scipy.ndimage import gaussian_filter1d\n",
    "from scipy.spatial.distance import cdist\n",
    "import torch\n",
    "import torch.nn.functional as F\n",
    "from torch import optim\n",
    "import networkx as nx\n",
    "import json\n",
    "import pickle\n",
    "import matplotlib\n",
    "\n",
    "from symfac.experimental import RBFExpansionV2"
   ]
  },
  {
   "cell_type": "code",
   "execution_count": 3,
   "id": "f6c17c47",
   "metadata": {},
   "outputs": [
    {
     "name": "stderr",
     "output_type": "stream",
     "text": [
      "<ipython-input-3-8c217515867a>:2: UserWarning: To copy construct from a tensor, it is recommended to use sourceTensor.clone().detach() or sourceTensor.clone().detach().requires_grad_(True), rather than torch.tensor(sourceTensor).\n",
      "  target = torch.tensor(d_tensor, dtype=torch.float)\n"
     ]
    }
   ],
   "source": [
    "d_tensor = torch.load('d1')\n",
    "target = torch.tensor(d_tensor, dtype=torch.float)"
   ]
  },
  {
   "cell_type": "code",
   "execution_count": 5,
   "id": "4c9681e3",
   "metadata": {
    "scrolled": true
   },
   "outputs": [],
   "source": [
    "gk_losses = pickle.loads(open('gk_losses_2.pickle', 'rb').read())\n",
    "gkl_losses = pickle.loads(open('gk_long_losses.pickle', 'rb').read())\n"
   ]
  },
  {
   "cell_type": "code",
   "execution_count": 12,
   "id": "7da1f8a6",
   "metadata": {},
   "outputs": [
    {
     "data": {
      "text/plain": [
       "[1,\n",
       " 2,\n",
       " 3,\n",
       " 4,\n",
       " 5,\n",
       " 6,\n",
       " 7,\n",
       " 8,\n",
       " 9,\n",
       " 10,\n",
       " 11,\n",
       " 12,\n",
       " 13,\n",
       " 14,\n",
       " 15,\n",
       " 16,\n",
       " 17,\n",
       " 18,\n",
       " 19,\n",
       " 20,\n",
       " 40,\n",
       " 60,\n",
       " 80,\n",
       " 100,\n",
       " 120,\n",
       " 140,\n",
       " 160]"
      ]
     },
     "execution_count": 12,
     "metadata": {},
     "output_type": "execute_result"
    }
   ],
   "source": [
    "gkl_losses[0]"
   ]
  },
  {
   "cell_type": "code",
   "execution_count": 7,
   "id": "e759a5e8",
   "metadata": {},
   "outputs": [
    {
     "data": {
      "text/plain": [
       "994"
      ]
     },
     "execution_count": 7,
     "metadata": {},
     "output_type": "execute_result"
    }
   ],
   "source": [
    "data = {\n",
    "    'losses': {\n",
    "        'svd': gk_losses[0],\n",
    "        'rbf': gk_losses[1],\n",
    "        'srbf': gk_losses[2][:10],\n",
    "    },\n",
    "    'times': {\n",
    "        'rbf': [62/60, 98/60, 146/60, 169/60, 226/60, 250/60, 304/60, 310/60, 383/60, 413/60],\n",
    "        'srbf': [63/60, 50/60, 52/60, 56/60, 50/60, 52/60, 58/60, 61/60, 64/60, 67/60],\n",
    "    },\n",
    "    'long_losses': {\n",
    "        'svd': gkl_losses[1],\n",
    "        'srbf': gkl_losses[0],\n",
    "    },\n",
    "}\n",
    "\n",
    "open('data/efficiency.json', 'w').write(json.dumps(data))"
   ]
  },
  {
   "cell_type": "code",
   "execution_count": 30,
   "id": "53c37520",
   "metadata": {},
   "outputs": [
    {
     "data": {
      "text/plain": [
       "[-5.101419232802069,\n",
       " -5.470150123627819,\n",
       " -5.879744297497574,\n",
       " -6.0196171385275745,\n",
       " -6.273456174231397,\n",
       " -6.64170550665747,\n",
       " -6.84750719863678,\n",
       " -7.02249295645256,\n",
       " -7.210618673429582,\n",
       " -7.291654609175741]"
      ]
     },
     "execution_count": 30,
     "metadata": {},
     "output_type": "execute_result"
    }
   ],
   "source": [
    "[np.log(t) for t in gk_losses[0]]"
   ]
  },
  {
   "cell_type": "code",
   "execution_count": 11,
   "id": "5f2bc1c6",
   "metadata": {
    "format": "column"
   },
   "outputs": [
    {
     "name": "stderr",
     "output_type": "stream",
     "text": [
      "<ipython-input-11-a9d7e913f6d7>:55: UserWarning: Attempted to set non-positive bottom ylim on a log-scaled axis.\n",
      "Invalid limit will be ignored.\n",
      "  axs[2].set_ybound(lower=0, upper=0.013)\n"
     ]
    }
   ],
   "source": [
    "fig = SuperFigure(plt.figure(figsize=(__WIDTH__, __HEIGHT__), dpi=300))\n",
    "ax_canvas = fig.make_axes(\n",
    "    left=0, right=1, top=0, bottom=1, zorder=-100,\n",
    "    style='blank' if __PRODUCTION__ else None\n",
    ")\n",
    "ax_canvas.set_xlim([0, 1])\n",
    "ax_canvas.set_ylim([0, 1])\n",
    "\n",
    "# draw the axes grid\n",
    "x0 = 0.04\n",
    "dx = 0.24\n",
    "w = 0.22\n",
    "axs = [\n",
    "    fig.make_axes(\n",
    "        left=x0 + dx * i,\n",
    "        width=w,\n",
    "        top=0.12,\n",
    "        width_to_height=1.0,\n",
    "        style='modern'\n",
    "    ) for i in range(4)\n",
    "]\n",
    "\n",
    "\n",
    "def draw_bars(ax, h, offset, **kwargs):\n",
    "    ax.bar(np.arange(len(h)) + offset, h, **kwargs)\n",
    "\n",
    "bar_width = 0.4\n",
    "bar_style = dict(\n",
    "    width = 0.5*bar_width\n",
    ")\n",
    "svd_style = dict(\n",
    "    color='r',\n",
    "    label=r'\\textbf{SVD}'\n",
    ")\n",
    "rbf_style = dict(\n",
    "    color='k',\n",
    "    label=r'\\textbf{RBF}'\n",
    ")\n",
    "srbf_style = dict(\n",
    "    color='g',\n",
    "    label=r'\\textbf{SRBF}'\n",
    ")\n",
    "\n",
    "axs[0].imshow(target)\n",
    "\n",
    "axs[1].plot(gkl_losses[0], gkl_losses[1], 'g.-', gkl_losses[0], gkl_losses[2], 'r.-')    \n",
    "axs[1].set_yscale('log')    \n",
    "\n",
    "#draw_bars(axs[1], data['losses']['svd'], 0.5 * bar_width, **bar_style, **svd_style)\n",
    "#draw_bars(axs[1], data['losses']['rbf'], 0.5 * bar_width + 0.6, **bar_style, **rbf_style)\n",
    "#draw_bars(axs[1], data['losses']['srbf'], 0.5 * bar_width+0.3, **bar_style, **srbf_style)\n",
    "axs[2].plot(range(1, 11), gk_losses[0], 'r.-', range(1, 11), gk_losses[1], 'k.-', range(1, 11), gk_losses[2][:10], 'g.-')\n",
    "axs[2].set_yscale('log')  \n",
    "axs[2].set_xbound(lower=0, upper=10)\n",
    "axs[2].set_ybound(lower=0, upper=0.013)\n",
    "\n",
    "draw_bars(axs[3], data['times']['srbf'], -0.5 * bar_width, **bar_style, **srbf_style)\n",
    "draw_bars(axs[3], data['times']['rbf'], 0.5 * bar_width, **bar_style, **rbf_style)\n",
    "\n",
    "\n",
    "\n",
    "title_style = dict(\n",
    "    fontsize=8,\n",
    "    y=0.975,\n",
    "    va='bottom'\n",
    ")\n",
    "\n",
    "tick_style = dict(\n",
    "    fontsize=7,\n",
    ")\n",
    "label_style = dict(\n",
    "    fontsize=8,\n",
    "    labelpad=0.75,\n",
    ")\n",
    "\n",
    "ticks = [0,250]\n",
    "axs[0].set_xbound(lower=0, upper=250)\n",
    "axs[0].set_ybound(lower=0, upper=250)\n",
    "axs[0].set_xticks(ticks)\n",
    "axs[0].set_yticks(ticks)\n",
    "axs[0].set_xticklabels(['%d' % x for x in [0, 250]], **tick_style)\n",
    "axs[0].set_yticklabels(['%d' % y for y in [0, 250]], **tick_style)\n",
    "\n",
    "\n",
    "xticks = [1, 20, 40, 60, 80, 100, 120, 140, 160]\n",
    "#yticks=[0,0.012]\n",
    "axs[1].set_xbound(lower=-2, upper=160)\n",
    "#axs[1].set_ybound(lower=0, upper=0.012)\n",
    "axs[1].set_xticks(xticks)\n",
    "#axs[1].set_yticks(yticks)\n",
    "#axs[1].get_yaxis().set_major_formatter(matplotlib.ticker.ScalarFormatter())\n",
    "axs[1].set_xticklabels(['%d' % x for x in xticks], **tick_style)\n",
    "axs[1].set_yticklabels([])\n",
    "\n",
    "xticks = [1, 5, 10]\n",
    "#yticks=[0,0.012]\n",
    "axs[2].set_xbound(lower=0.7, upper=10.2)\n",
    "#axs[2].set_ybound(upper=0.012)\n",
    "axs[2].set_xticks(xticks)\n",
    "#axs[2].set_yticks(yticks)\n",
    "#axs[2].get_yaxis().set_major_formatter(matplotlib.ticker.ScalarFormatter())\n",
    "axs[2].set_xticklabels(['%d' % x for x in xticks], **tick_style)\n",
    "axs[2].set_yticklabels([])\n",
    "\n",
    "\n",
    "xticks = [0,5,10]\n",
    "yticks = [0,2,4,6]\n",
    "axs[3].set_xbound(lower=0, upper=10)\n",
    "axs[3].set_ybound(lower=0, upper=7)\n",
    "axs[3].set_xticks(xticks)\n",
    "axs[3].set_yticks(yticks)\n",
    "axs[3].set_xticklabels(['%d' % x for x in [0,5,10]], **tick_style)\n",
    "axs[3].set_yticklabels(['%d' % y for y in [0,2,4,6]], **tick_style)\n",
    "\n",
    "axs[0].set_title(r'\\textbf{Molecular kernel distance matrix}', **title_style)\n",
    "axs[1].set_title(r'\\textbf{MSE Losses}', **title_style)\n",
    "axs[2].set_title(r'\\textbf{MSE Losses}', **title_style)\n",
    "axs[3].set_title(r'\\textbf{Time comparison}', **title_style)\n",
    "\n",
    "ax_canvas.bar([-1], [0], **bar_style, **svd_style)\n",
    "ax_canvas.bar([-1], [0], **bar_style, **rbf_style)\n",
    "ax_canvas.bar([-1], [0], **bar_style, **srbf_style)\n",
    "ax_canvas.legend(\n",
    "    loc='lower left',\n",
    "    bbox_to_anchor=(0.5, 0.03),\n",
    "    ncol=3,\n",
    "    frameon=False,\n",
    "    fontsize=6\n",
    ")\n",
    "\n",
    "\n",
    "if __PRODUCTION__:\n",
    "    fig.savefig(f'pgf/{__NAME__}.pgf', dpi=300)\n",
    "else:\n",
    "    fig.savefig(f'svg/{__NAME__}.svg', dpi=300)\n",
    "plt.show()"
   ]
  },
  {
   "cell_type": "code",
   "execution_count": 12,
   "id": "0e94b42b",
   "metadata": {},
   "outputs": [
    {
     "name": "stdout",
     "output_type": "stream",
     "text": [
      "Successfully created fig-efficiency-ker.pdf\r\n"
     ]
    }
   ],
   "source": [
    "!make -f Makefile.figures fig-\"$__NAME__\".pdf 2>&1 | tail -n 1"
   ]
  },
  {
   "cell_type": "code",
   "execution_count": 80,
   "id": "21030727",
   "metadata": {},
   "outputs": [
    {
     "data": {
      "text/plain": [
       "[0.0115783,\n",
       " 0.0070272,\n",
       " 0.0042515,\n",
       " 0.0036036,\n",
       " 0.0030903,\n",
       " 0.0027092,\n",
       " 0.0024542,\n",
       " 0.0022272,\n",
       " 0.0020658,\n",
       " 0.0019309,\n",
       " 0.0018186,\n",
       " 0.0017204,\n",
       " 0.0016348,\n",
       " 0.001561,\n",
       " 0.0015032,\n",
       " 0.0014486,\n",
       " 0.0014016,\n",
       " 0.0013568,\n",
       " 0.0013175,\n",
       " 0.0012819,\n",
       " 0.0008705,\n",
       " 0.0006629,\n",
       " 0.0005288,\n",
       " 0.0004283,\n",
       " 0.0003465,\n",
       " 0.0002765,\n",
       " 0.0002148]"
      ]
     },
     "execution_count": 80,
     "metadata": {},
     "output_type": "execute_result"
    }
   ],
   "source": [
    "gkl_losses[2] = [0.0115783,\n",
    " 0.0070272,\n",
    " 0.0042515,\n",
    " 0.0036036,\n",
    " 0.0030903,\n",
    " 0.0027092,\n",
    " 0.0024542,\n",
    " 0.0022272,\n",
    " 0.0020658,\n",
    " 0.0019309,\n",
    " 0.0018186,\n",
    " 0.0017204,\n",
    " 0.0016348,\n",
    " 0.001561,\n",
    " 0.0015032,\n",
    " 0.0014486,\n",
    " 0.0014016,\n",
    " 0.0013568,\n",
    " 0.0013175,\n",
    " 0.0012819,\n",
    " 0.0008705,\n",
    " 0.0006629,\n",
    " 0.0005288,\n",
    " 0.0004283,\n",
    " 0.0003465,\n",
    " 0.0002765,\n",
    " 0.0002148]"
   ]
  },
  {
   "cell_type": "code",
   "execution_count": 82,
   "id": "d919347c",
   "metadata": {},
   "outputs": [
    {
     "data": {
      "text/plain": [
       "[0.0061804,\n",
       " 0.0046355,\n",
       " 0.0038087,\n",
       " 0.0030982,\n",
       " 0.0021956,\n",
       " 0.0021081,\n",
       " 0.0014806,\n",
       " 0.0015258,\n",
       " 0.0010862,\n",
       " 0.0010517,\n",
       " 0.0009961,\n",
       " 0.0009438,\n",
       " 0.0008429,\n",
       " 0.0007509,\n",
       " 0.0006723,\n",
       " 0.0006414,\n",
       " 0.0007446,\n",
       " 0.0006746,\n",
       " 0.0006916,\n",
       " 0.0006358,\n",
       " 0.0002089,\n",
       " 0.0001358,\n",
       " 0.0001128,\n",
       " 0.0001089,\n",
       " 0.0001019,\n",
       " 0.0001083,\n",
       " 0.0001056]"
      ]
     },
     "execution_count": 82,
     "metadata": {},
     "output_type": "execute_result"
    }
   ],
   "source": [
    "gkl_losses[1]"
   ]
  },
  {
   "cell_type": "markdown",
   "id": "bfadaae0",
   "metadata": {},
   "source": [
    "END\n",
    "---"
   ]
  }
 ],
 "metadata": {
  "kernelspec": {
   "display_name": "Python 3",
   "language": "python",
   "name": "python3"
  },
  "language_info": {
   "codemirror_mode": {
    "name": "ipython",
    "version": 3
   },
   "file_extension": ".py",
   "mimetype": "text/x-python",
   "name": "python",
   "nbconvert_exporter": "python",
   "pygments_lexer": "ipython3",
   "version": "3.8.9"
  }
 },
 "nbformat": 4,
 "nbformat_minor": 5
}
