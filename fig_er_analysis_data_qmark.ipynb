{
 "cells": [
  {
   "cell_type": "code",
   "execution_count": 1,
   "id": "f3c88a87",
   "metadata": {},
   "outputs": [
    {
     "name": "stdout",
     "output_type": "stream",
     "text": [
      "This is how much space the figure will take up on letter paper\n"
     ]
    }
   ],
   "source": [
    "__PRODUCTION__ = 1\n",
    "__NAME__       = 'er-analysis'\n",
    "__WIDTH__      = 5.5  # NeurIPS 2021 text box width\n",
    "__HEIGHT__     = 1.55\n",
    "\n",
    "if __PRODUCTION__:\n",
    "    from mplmagic2 import pgf\n",
    "else:\n",
    "    from mplmagic2 import svg\n",
    "\n",
    "from mplmagic2 import SuperFigure\n",
    "import matplotlib.pyplot as plt\n",
    "\n",
    "print('This is how much space the figure will take up on letter paper')\n",
    "SuperFigure.size_hint(__WIDTH__, __HEIGHT__, margin_left=0.5 * (8.5 - __WIDTH__));"
   ]
  },
  {
   "cell_type": "code",
   "execution_count": 2,
   "id": "4314efa7",
   "metadata": {},
   "outputs": [],
   "source": [
    "import functools\n",
    "import numpy as np\n",
    "from scipy.ndimage import gaussian_filter1d\n",
    "from scipy.spatial.distance import cdist\n",
    "import torch\n",
    "import torch.nn.functional as F\n",
    "from torch import optim\n",
    "import networkx as nx\n",
    "import pickle\n",
    "from sklearn import metrics\n",
    "\n",
    "from symfac.experimental import RBFExpansionV2"
   ]
  },
  {
   "cell_type": "code",
   "execution_count": 3,
   "id": "f58637e3",
   "metadata": {},
   "outputs": [],
   "source": [
    "svd2_approx, rbf2_approx,K00=pickle.load(open('data/paper/er_approx_2.pickle', \"rb\"))\n",
    "fpr2, tpr2, fpr_svd2, tpr_svd2 = pickle.load(open('data/paper/er_auc_2.pickle', \"rb\"))\n",
    "fpr7, tpr7, fpr_svd7, tpr_svd7 = pickle.load(open('data/paper/er_auc_7.pickle', \"rb\"))"
   ]
  },
  {
   "cell_type": "code",
   "execution_count": 4,
   "id": "24e07360",
   "metadata": {
    "format": "column"
   },
   "outputs": [],
   "source": [
    "fig = SuperFigure(plt.figure(figsize=(__WIDTH__, __HEIGHT__), dpi=300))\n",
    "ax_canvas = fig.make_axes(\n",
    "    left=0, right=1, top=0, bottom=1, zorder=-100,\n",
    "    style='blank' if __PRODUCTION__ else None\n",
    ")\n",
    "ax_canvas.set_xlim([0, 1])\n",
    "ax_canvas.set_ylim([0, 1])\n",
    "\n",
    "# draw the axes grid\n",
    "# x0 = 0.05\n",
    "# dx = 0.24\n",
    "# w = 0.21\n",
    "x0 = 0.005\n",
    "dx = 0.245\n",
    "w = 0.23\n",
    "axs = [\n",
    "    fig.make_axes(\n",
    "        left=x0 + dx * i,\n",
    "        width=w,\n",
    "        top=0.09,\n",
    "        width_to_height=1.0,\n",
    "        style='modern'\n",
    "    ) for i in range(4)\n",
    "]\n",
    "bbox = axs[3].get_position()\n",
    "bbox.x0 += 0.02\n",
    "bbox.x1 += 0.02\n",
    "axs[3].set_position(bbox)\n",
    "\n",
    "image_style = dict(\n",
    "    vmin=0,\n",
    "    vmax=1,\n",
    "    cmap='Greys_r'\n",
    ")\n",
    "axs[0].imshow(K00, **image_style)\n",
    "axs[1].imshow(rbf2_approx, **image_style)\n",
    "axs[2].imshow(svd2_approx, **image_style)\n",
    "\n",
    "svd_base_style = dict(\n",
    "    lw=0.75,\n",
    "    dash_capstyle='round'\n",
    ")\n",
    "svd2_style = dict(\n",
    "    ls=(2, (1.25, 2.5)),\n",
    "    **svd_base_style\n",
    ")\n",
    "svd7_style = dict(\n",
    "    ls=(4, (0.5, 2.5, 3, 2.5)),\n",
    "    **svd_base_style\n",
    ")\n",
    "rbf_base_style = dict(\n",
    "    lw=1.0,\n",
    "    markersize=3,\n",
    "    markeredgewidth=0.75,\n",
    "    markerfacecolor='w',\n",
    ")\n",
    "rbf2_style = dict(\n",
    "    marker='o',\n",
    "    markevery=30,\n",
    "    **rbf_base_style\n",
    ")\n",
    "rbf7_style = dict(\n",
    "    marker='^',\n",
    "    markevery=5,\n",
    "    **rbf_base_style\n",
    ")\n",
    "lo_style = dict(\n",
    "    color='#F06060'\n",
    ")\n",
    "hi_style = dict(\n",
    "    color='#606060'\n",
    ")\n",
    "axs[3].plot(fpr_svd2, tpr_svd2, label='SVD (2), AUC = 0.72',  **svd7_style, **lo_style)\n",
    "axs[3].plot(fpr2, tpr2, label='RBF (2), AUC = 0.82', **rbf2_style, **lo_style)\n",
    "axs[3].plot(fpr_svd7, tpr_svd7, label='SVD (7), AUC = 0.90',  **svd2_style, **hi_style)\n",
    "axs[3].plot(fpr7, tpr7, label='RBF (7), AUC = 0.98',  **rbf7_style, **hi_style)\n",
    "\n",
    "title_style = dict(\n",
    "    fontsize=7,\n",
    "    y=1.02,\n",
    "    va='top'\n",
    ")\n",
    "tick_style = dict(\n",
    "    fontsize=7,\n",
    ")\n",
    "label_style = dict(\n",
    "    fontsize=8,\n",
    "    labelpad=0.75,\n",
    ")\n",
    "\n",
    "\n",
    "for i in range(4):\n",
    "    if i != 3:\n",
    "        ticks = [0, 40]\n",
    "        axs[i].set_xbound(lower=0, upper=40)\n",
    "        axs[i].set_ybound(lower=0, upper=40)\n",
    "    else:\n",
    "        ticks = [0, 1]\n",
    "        axs[i].set_xbound(lower=-0.02, upper=1.02)\n",
    "        axs[i].set_ybound(lower=-0.02, upper=1.02)\n",
    "    axs[i].set_xticks(ticks)\n",
    "    axs[i].set_yticks(ticks)\n",
    "    axs[i].set_xticklabels(['%d' % x for x in ticks], **tick_style)\n",
    "    if i == 3:\n",
    "        axs[i].set_yticklabels(['%d' % y for y in ticks], **tick_style)\n",
    "    else:\n",
    "        axs[i].set_yticklabels([])\n",
    "\n",
    "axs[0].set_title(r'\\textbf{Adjacency matrix}', **title_style)\n",
    "axs[1].set_title(r'\\textbf{2-Component RBF}', **title_style)\n",
    "axs[2].set_title(r'\\textbf{2-Rank SVD}', **title_style)\n",
    "axs[3].set_title(r'\\textbf{AUC-ROC}', **title_style)\n",
    "axs[3].legend(\n",
    "    loc='lower right',\n",
    "    fontsize=7,\n",
    "    frameon=False\n",
    ")\n",
    "\n",
    "\n",
    "if __PRODUCTION__:\n",
    "    fig.savefig(f'pgf/{__NAME__}.pgf', dpi=300)\n",
    "else:\n",
    "    fig.savefig(f'svg/{__NAME__}.svg', dpi=300)\n",
    "plt.show()"
   ]
  },
  {
   "cell_type": "code",
   "execution_count": 5,
   "id": "db599fcc",
   "metadata": {},
   "outputs": [
    {
     "name": "stdout",
     "output_type": "stream",
     "text": [
      "Successfully created fig-er-analysis.pdf\r\n"
     ]
    }
   ],
   "source": [
    "!make -f Makefile.figures fig-\"$__NAME__\".pdf 2>&1 | tail -n 1"
   ]
  },
  {
   "cell_type": "code",
   "execution_count": 6,
   "id": "dc137897",
   "metadata": {},
   "outputs": [
    {
     "ename": "NameError",
     "evalue": "name 'end' is not defined",
     "output_type": "error",
     "traceback": [
      "\u001b[0;31m---------------------------------------------------------------------------\u001b[0m",
      "\u001b[0;31mNameError\u001b[0m                                 Traceback (most recent call last)",
      "\u001b[0;32m<ipython-input-6-2ff02905e7b7>\u001b[0m in \u001b[0;36m<module>\u001b[0;34m\u001b[0m\n\u001b[0;32m----> 1\u001b[0;31m \u001b[0mend\u001b[0m\u001b[0;34m\u001b[0m\u001b[0;34m\u001b[0m\u001b[0m\n\u001b[0m",
      "\u001b[0;31mNameError\u001b[0m: name 'end' is not defined"
     ]
    }
   ],
   "source": [
    "end"
   ]
  },
  {
   "cell_type": "markdown",
   "id": "35270789",
   "metadata": {},
   "source": [
    "# END OF PLOTTING"
   ]
  },
  {
   "cell_type": "code",
   "execution_count": null,
   "id": "981a6b1b",
   "metadata": {},
   "outputs": [],
   "source": [
    "K00 = pickle.loads(open('data/er_graph.pickle', 'rb').read())\n"
   ]
  },
  {
   "cell_type": "code",
   "execution_count": null,
   "id": "df85f038",
   "metadata": {},
   "outputs": [],
   "source": [
    "def threshold(alpha, array):\n",
    "    tresholded_array = torch.randn(array.shape)\n",
    "    tresholded_array[array < alpha] = 0\n",
    "    tresholded_array[array >= alpha] = 1\n",
    "    return tresholded_array"
   ]
  },
  {
   "cell_type": "code",
   "execution_count": null,
   "id": "33dd386e",
   "metadata": {},
   "outputs": [],
   "source": [
    "errors = []\n",
    "bs=100\n",
    "for k in range(2,3):\n",
    "    u0=1/1000*torch.randn([bs, len(K00), k]) \n",
    "    a=torch.randn([bs, k], device=\"cuda\")\n",
    "    b=torch.randn([bs], device=\"cuda\")\n",
    "    fac = RBFExpansionV2(k=k, batch_size=bs, max_steps=40000)\n",
    "    fac.fith(\n",
    "        K00,\n",
    "        u0=u0,\n",
    "        a0=a,\n",
    "        b0=b\n",
    "    )\n",
    "    plt.loglog(\n",
    "        fac.report.loss_history_ticks,\n",
    "        fac.report.loss_history.min(axis=1)\n",
    "    )\n",
    "    plt.show()\n",
    "\n",
    "    error = fac.report.loss_best\n",
    "    er = round(float(torch.min(error).cpu().detach().numpy()), 7)\n",
    "    print(er)\n",
    "    errors.append(er)\n",
    "    plt.imshow(fac.optimum(runs=torch.argmin(fac.report.loss_best)))\n",
    "    plt.show()\n",
    "print(errors)"
   ]
  },
  {
   "cell_type": "code",
   "execution_count": null,
   "id": "efda5134",
   "metadata": {},
   "outputs": [],
   "source": [
    "plt.loglog(\n",
    "        fac.report.loss_history_ticks,\n",
    "        fac.report.loss_history.min(axis=1)\n",
    "    )\n",
    "plt.show()\n",
    "\n",
    "error = fac.report.loss_best\n",
    "er = round(float(torch.min(error).cpu().detach().numpy()), 7)\n",
    "print(er)\n",
    "errors.append(er)\n",
    "plt.imshow(fac.optimum(runs=torch.argmin(fac.report.loss_best)))\n",
    "plt.show()"
   ]
  },
  {
   "cell_type": "code",
   "execution_count": null,
   "id": "9cde9adb",
   "metadata": {},
   "outputs": [],
   "source": [
    "rank2_approx = fac.optimum(runs=torch.argmin(fac.report.loss_best))"
   ]
  },
  {
   "cell_type": "code",
   "execution_count": null,
   "id": "42d51a35",
   "metadata": {},
   "outputs": [],
   "source": [
    "U, S, V = np.linalg.svd(K00.detach().numpy())\n",
    "svd2_approx = torch.tensor((U[:, :2] * S[None, :2]) @ V[:2, :])"
   ]
  },
  {
   "cell_type": "code",
   "execution_count": null,
   "id": "e2f93d89",
   "metadata": {},
   "outputs": [],
   "source": [
    "from sklearn import metrics\n",
    "y = K00.numpy().flatten()\n",
    "pred = rank2_approx.numpy().flatten()\n",
    "pred_svd = svd2_approx.numpy().flatten()\n",
    "\n",
    "fpr2, tpr2, thresholds = metrics.roc_curve(y, pred)\n",
    "print(metrics.auc(fpr2, tpr2))\n",
    "fpr_svd2, tpr_svd2, thresholds2 = metrics.roc_curve(y, pred_svd)\n",
    "print(metrics.auc(fpr_svd2, tpr_svd2))"
   ]
  },
  {
   "cell_type": "code",
   "execution_count": null,
   "id": "226a929c",
   "metadata": {},
   "outputs": [],
   "source": [
    "plt.plot(fpr2, tpr2, label='Two components RBF, AUC=0.82',  linewidth=3, linestyle='-')\n",
    "plt.plot(fpr_svd2, tpr_svd2, label='Two ranks SVD, AUC=0.72',  linewidth=3, linestyle=':')\n",
    "plt.legend(loc='lower right', fontsize=12)\n",
    "plt.xlabel('False positive rate')\n",
    "plt.ylabel('True positive rate')\n",
    "plt.show\n"
   ]
  },
  {
   "cell_type": "code",
   "execution_count": null,
   "id": "a5c86602",
   "metadata": {},
   "outputs": [],
   "source": [
    "open('data/er_auc_2.pickle', 'wb').write(pickle.dumps([fpr2, tpr2, fpr_svd2, tpr_svd2]))"
   ]
  },
  {
   "cell_type": "code",
   "execution_count": null,
   "id": "8f29d333",
   "metadata": {},
   "outputs": [],
   "source": [
    "open('data/er_rbf2_approx.pickle', 'wb').write(pickle.dumps(fac.optimum(runs=torch.argmin(fac.report.loss_best))))"
   ]
  },
  {
   "cell_type": "code",
   "execution_count": null,
   "id": "197d8c68",
   "metadata": {},
   "outputs": [],
   "source": [
    "errors7 = []\n",
    "bs=100\n",
    "for k in range(7,8):\n",
    "    u0=1/1000*torch.randn([bs, len(K00), k]) \n",
    "    a=torch.randn([bs, k], device=\"cuda\")\n",
    "    b=torch.randn([bs], device=\"cuda\")\n",
    "    fac = RBFExpansionV2(k=k, batch_size=bs, max_steps=40000)\n",
    "    fac.fith(\n",
    "        K00,\n",
    "        u0=u0,\n",
    "        a0=a,\n",
    "        b0=b\n",
    "    )\n",
    "    plt.loglog(\n",
    "        fac.report.loss_history_ticks,\n",
    "        fac.report.loss_history.min(axis=1)\n",
    "    )\n",
    "    plt.show()\n",
    "\n",
    "    plt.show()\n",
    "    error = fac.report.loss_best\n",
    "    er = round(float(torch.min(error).cpu().detach().numpy()), 7)\n",
    "    print(er)\n",
    "    errors7.append(er)\n",
    "    plt.imshow(fac.optimum(runs=torch.argmin(fac.report.loss_best)))\n",
    "    plt.show()\n",
    "    #open('er_{0}.pickle'.format(k), 'wb').write(pickle.dumps(fac.optimum.x))\n",
    "print(errors7)"
   ]
  },
  {
   "cell_type": "code",
   "execution_count": null,
   "id": "bf0bdd34",
   "metadata": {},
   "outputs": [],
   "source": [
    "rank7_approx = fac.optimum(runs=torch.argmin(fac.report.loss_best))"
   ]
  },
  {
   "cell_type": "code",
   "execution_count": null,
   "id": "32ed9eab",
   "metadata": {},
   "outputs": [],
   "source": [
    "U, S, V = np.linalg.svd(K00.detach().numpy())\n",
    "svd7_approx = torch.tensor((U[:, :7] * S[None, :7]) @ V[:7, :])"
   ]
  },
  {
   "cell_type": "code",
   "execution_count": null,
   "id": "c5c7270a",
   "metadata": {},
   "outputs": [],
   "source": [
    "pred_7 = rank7_approx.numpy().flatten()\n",
    "pred_svd_7 = svd7_approx.numpy().flatten()\n",
    "\n",
    "fpr7, tpr7, thresholds = metrics.roc_curve(y, pred_7)\n",
    "print(metrics.auc(fpr, tpr))\n",
    "fpr_svd7, tpr_svd7, thresholds_svd7 = metrics.roc_curve(y, pred_svd_7)\n",
    "print(metrics.auc(fpr_svd7, tpr_svd7))"
   ]
  },
  {
   "cell_type": "code",
   "execution_count": null,
   "id": "4e983ca9",
   "metadata": {},
   "outputs": [],
   "source": [
    "plt.plot(fpr7, tpr7, label='7 components RBF, AUC=0.98',  linewidth=3, linestyle='-')\n",
    "plt.plot(fpr_svd7, tpr_svd7, label='7 ranks SVD, AUC=0.9',  linewidth=3, linestyle=':')\n",
    "plt.legend(loc='lower right', fontsize=12)\n",
    "plt.xlabel('False positive rate')\n",
    "plt.ylabel('True positive rate')\n",
    "plt.show"
   ]
  },
  {
   "cell_type": "code",
   "execution_count": null,
   "id": "08985c09",
   "metadata": {},
   "outputs": [],
   "source": [
    "open('data/er_auc_7.pickle', 'wb').write(pickle.dumps([fpr7, tpr7, fpr_svd7, tpr_svd7]))"
   ]
  },
  {
   "cell_type": "code",
   "execution_count": null,
   "id": "69769355",
   "metadata": {},
   "outputs": [],
   "source": [
    "fig = SuperFigure(plt.figure(figsize=(__WIDTH__, __HEIGHT__)))\n",
    "ax_canvas = fig.make_axes(\n",
    "    left=0, right=1, top=0, bottom=1, zorder=-100,\n",
    "    style='blank' if __PRODUCTION__ else None\n",
    ")\n",
    "ax_canvas.set_xlim([0, 1])\n",
    "ax_canvas.set_ylim([0, 1])\n",
    "\n",
    "# draw the axes grid\n",
    "x0 = 0.05\n",
    "dx = 0.24\n",
    "w = 0.2\n",
    "axs = [\n",
    "    fig.make_axes(\n",
    "        left=x0 + dx * i,\n",
    "        width=w,\n",
    "        top=0.1,\n",
    "        width_to_height=1.0,\n",
    "        style='modern'\n",
    "    ) for i in range(3)\n",
    "]\n",
    "\n",
    "axs[1].imshow(fac.optimum(runs=torch.argmin(fac.report.loss_best)))\n",
    "axs[0].imshow(K00, cmap='hot', interpolation='nearest')\n",
    "axs[2].imshow(svd2_approx)\n",
    "\n",
    "\n",
    "if __PRODUCTION__:\n",
    "    fig.savefig(f'pgf/{__NAME__}.pgf')\n",
    "else:\n",
    "    fig.savefig(f'svg/{__NAME__}.svg')\n",
    "plt.show()"
   ]
  },
  {
   "cell_type": "code",
   "execution_count": null,
   "id": "f1f52a1c",
   "metadata": {},
   "outputs": [],
   "source": [
    "open('data/er_approx_2.pickle', 'wb').write(pickle.dumps([svd2_approx, fac.optimum(runs=torch.argmin(fac.report.loss_best)), K00]))"
   ]
  },
  {
   "cell_type": "code",
   "execution_count": null,
   "id": "8ed59558",
   "metadata": {},
   "outputs": [],
   "source": [
    " plt.imshow(fac.optimum(runs=torch.argmin(fac.report.loss_best)))"
   ]
  },
  {
   "cell_type": "code",
   "execution_count": null,
   "id": "fda21a9a",
   "metadata": {},
   "outputs": [],
   "source": [
    " plt.imshow(svd2_approx)"
   ]
  },
  {
   "cell_type": "code",
   "execution_count": null,
   "id": "6ac1e044",
   "metadata": {},
   "outputs": [],
   "source": [
    "plt.imshow(K00, cmap='hot', interpolation='nearest')\n",
    "plt.show()"
   ]
  },
  {
   "cell_type": "code",
   "execution_count": null,
   "id": "9da588d9",
   "metadata": {},
   "outputs": [],
   "source": [
    "svd1_approx = torch.tensor((U0[:, :1] * S0[None, :1]) @ V0[:1, :])"
   ]
  },
  {
   "cell_type": "code",
   "execution_count": null,
   "id": "d6f9da56",
   "metadata": {},
   "outputs": [],
   "source": [
    "round(float(torch.min(error).cpu().detach().numpy()), 7)"
   ]
  },
  {
   "cell_type": "code",
   "execution_count": null,
   "id": "2c6c2479",
   "metadata": {},
   "outputs": [],
   "source": [
    "fig = plt.figure(figsize=plt.figaspect(1))\n",
    "#===============\n",
    "# set up the axes for the second plot\n",
    "ax = fig.add_subplot(1, 1, 1)\n",
    "\n",
    "ax.plot(fpr2, tpr2, label='Two components RBF, AUC=0.81',  linewidth=3, linestyle='-')\n",
    "ax.plot(fpr_svd2, tpr_svd2, label='Two ranks SVD, AUC=0.72',  linewidth=3, linestyle=':')\n",
    "ax.plot(fpr7, tpr7, label='Seven components RBF, AUC=0.99',  linewidth=3, linestyle='-')\n",
    "ax.plot(fpr_svd7, tpr_svd7, label='Seven ranks SVD, AUC=0.9',  linewidth=3, linestyle=':')\n",
    "ax.legend(loc='lower right', fontsize=9)\n",
    "\n",
    "\n",
    "plt.show()"
   ]
  },
  {
   "cell_type": "code",
   "execution_count": null,
   "id": "178a4cd3",
   "metadata": {},
   "outputs": [],
   "source": [
    "fpr2, tpr2, fpr_svd2, tpr_svd2 = pickle.load(open('er_auc_2.pickle', \"rb\"))\n",
    "fpr7, tpr7, fpr_svd7, tpr_svd7 = pickle.load(open('er_auc_7.pickle', \"rb\"))"
   ]
  },
  {
   "cell_type": "code",
   "execution_count": null,
   "id": "1ddf4ccb",
   "metadata": {},
   "outputs": [],
   "source": []
  },
  {
   "cell_type": "code",
   "execution_count": null,
   "id": "9b1b4237",
   "metadata": {},
   "outputs": [],
   "source": [
    "tick_style = dict(\n",
    "    fontsize=7,\n",
    ")\n",
    "label_style = dict(\n",
    "    fontsize=8,\n",
    "    labelpad=0.75,\n",
    ")\n",
    "for i, ax in enumerate(axs):\n",
    "    ticks = [0, 1]\n",
    "    ax.set_xbound(lower=0, upper=1)\n",
    "    ax.set_ybound(lower=0, upper=1)\n",
    "    ax.set_xticks(ticks)\n",
    "    ax.set_yticks(ticks)\n",
    "    ax.set_xticklabels(['%d' % x for x in ticks], **tick_style)\n",
    "    if i == 0:\n",
    "        ax.set_yticklabels(['%d' % y for y in ticks], **tick_style)\n",
    "        ax.set_ylabel(r'\\textbf{Learned embedding}', **label_style)\n",
    "    else:\n",
    "        ax.set_yticklabels([])\n",
    "    ax.set_xlabel(r'\\textbf{Ground truth}', **label_style)"
   ]
  }
 ],
 "metadata": {
  "kernelspec": {
   "display_name": "mplmagic2",
   "language": "python",
   "name": "mplmagic2"
  },
  "language_info": {
   "codemirror_mode": {
    "name": "ipython",
    "version": 3
   },
   "file_extension": ".py",
   "mimetype": "text/x-python",
   "name": "python",
   "nbconvert_exporter": "python",
   "pygments_lexer": "ipython3",
   "version": "3.8.10"
  }
 },
 "nbformat": 4,
 "nbformat_minor": 5
}
