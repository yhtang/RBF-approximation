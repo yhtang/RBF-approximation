{
 "cells": [
  {
   "cell_type": "code",
   "execution_count": 1,
   "id": "7650d450",
   "metadata": {
    "format": "row"
   },
   "outputs": [
    {
     "name": "stdout",
     "output_type": "stream",
     "text": [
      "This is how much space the figure will take up on letter paper\n"
     ]
    }
   ],
   "source": [
    "__PRODUCTION__ = 1\n",
    "__NAME__       = 'iteration'\n",
    "__WIDTH__      = 5.5  # NeurIPS 2021 text box width\n",
    "__HEIGHT__     = 3.1\n",
    "\n",
    "if __PRODUCTION__:\n",
    "    from mplmagic2 import pgf\n",
    "else:\n",
    "    from mplmagic2 import svg\n",
    "\n",
    "from mplmagic2 import SuperFigure, tex\n",
    "import matplotlib.pyplot as plt\n",
    "\n",
    "print('This is how much space the figure will take up on letter paper')\n",
    "SuperFigure.size_hint(__WIDTH__, __HEIGHT__, margin_left=0.5 * (8.5 - __WIDTH__));"
   ]
  },
  {
   "cell_type": "code",
   "execution_count": 2,
   "id": "e88a64da",
   "metadata": {
    "format": "row"
   },
   "outputs": [],
   "source": [
    "import dill\n",
    "\n",
    "import functools\n",
    "import numpy as np\n",
    "from scipy.ndimage import gaussian_filter1d\n",
    "from scipy.spatial.distance import cdist\n",
    "import torch\n",
    "import torch.nn.functional as F\n",
    "from torch import optim\n",
    "\n",
    "from symfac.experimental import RBFExpansionPlus"
   ]
  },
  {
   "cell_type": "code",
   "execution_count": 3,
   "id": "d49cb5c6",
   "metadata": {},
   "outputs": [
    {
     "name": "stdout",
     "output_type": "stream",
     "text": [
      "[0.13909, 0.06549, 0.0267, 0.00791, 0.0037, 0.00134, 0.00047, 0.0001, 5e-05]\n"
     ]
    }
   ],
   "source": [
    "def rbf(X, Y=None):\n",
    "    return np.exp(-np.subtract.outer(X, Y if Y is not None else X)**2)\n",
    "\n",
    "n = 64\n",
    "\n",
    "np.random.seed(128)\n",
    "u = 5 * np.random.randn(n)\n",
    "v = 4 * np.random.randn(n)\n",
    "u = gaussian_filter1d(u, 3., order=0)\n",
    "v = gaussian_filter1d(v, 6., order=0)\n",
    "\n",
    "K = rbf(u) - rbf(v)\n",
    "Kt = torch.tensor(K, dtype=torch.float32)\n",
    "\n",
    "fig, axs = plt.subplots(1, 2, figsize=(8, 4))\n",
    "\n",
    "axs[0].imshow(K)\n",
    "axs[1].bar(np.arange(n), np.linalg.eigvalsh(K))\n",
    "plt.show()\n",
    "\n",
    "U, S, V = np.linalg.svd(K)\n",
    "svd_K = []\n",
    "for k in range(1, 10):\n",
    "    truncation = (U[:, :k] * S[None, :k]) @ V[:k, :]\n",
    "    svd_K.append(round(float(F.mse_loss(torch.tensor(truncation), torch.tensor(K))), 5))\n",
    "print(svd_K)"
   ]
  },
  {
   "cell_type": "code",
   "execution_count": 4,
   "id": "ee2389e1",
   "metadata": {},
   "outputs": [
    {
     "name": "stderr",
     "output_type": "stream",
     "text": [
      "100%|██████████| 1001/1001 [00:17<00:00, 56.88it/s]\n"
     ]
    },
    {
     "data": {
      "text/plain": [
       "<symfac.experimental.rbf_expansion_plus.RBFExpansionPlus at 0x7f49ade72ee0>"
      ]
     },
     "execution_count": 4,
     "metadata": {},
     "output_type": "execute_result"
    }
   ],
   "source": [
    "torch.manual_seed(15513512)\n",
    "\n",
    "K = rbf(u) - rbf(v)\n",
    "\n",
    "fac = RBFExpansionPlus(\n",
    "    k=2,\n",
    "    batch_size=512,\n",
    "    max_steps=1001,\n",
    ")\n",
    "\n",
    "component_history = []\n",
    "\n",
    "def component_history_callback(step, model):\n",
    "    if step in [0, 5, 20, 100]:\n",
    "        component_history.append(dict(\n",
    "            step=step,\n",
    "            model=dill.loads(dill.dumps(model))\n",
    "        ))\n",
    "\n",
    "fac.fith(\n",
    "    K.astype(np.float32),\n",
    "    plugins=[\n",
    "        dict(\n",
    "            every=1,\n",
    "            requires=['step', 'model'],\n",
    "            callback=component_history_callback\n",
    "        )\n",
    "    ],\n",
    "    u0=0.1 * torch.randn(fac.batch_size, n, fac.k),\n",
    ")"
   ]
  },
  {
   "cell_type": "code",
   "execution_count": 5,
   "id": "1bdc4d0a",
   "metadata": {},
   "outputs": [
    {
     "data": {
      "text/plain": [
       "tensor(2.0720e-15)"
      ]
     },
     "execution_count": 5,
     "metadata": {},
     "output_type": "execute_result"
    }
   ],
   "source": [
    "torch.min(fac.report.loss_best)"
   ]
  },
  {
   "cell_type": "code",
   "execution_count": 6,
   "id": "396d3369",
   "metadata": {
    "scrolled": false
   },
   "outputs": [
    {
     "name": "stdout",
     "output_type": "stream",
     "text": [
      "tensor([ 1., -1.], device='cuda:0')\n"
     ]
    }
   ],
   "source": [
    "best_run = np.argmin(fac.report.loss_best)\n",
    "learned_data = []\n",
    "learned_components = []\n",
    "print(fac.optimum.a[best_run, :])\n",
    "\n",
    "plt.plot(fac.report.loss_history_ticks, fac.report.loss_history[:, best_run])\n",
    "plt.xscale('log')\n",
    "plt.yscale('log')\n",
    "xticks = 2**np.arange(11)\n",
    "plt.gca().set_xticks(xticks)\n",
    "plt.gca().set_xticklabels(xticks)\n",
    "plt.title('Loss of the best run')\n",
    "plt.show()\n",
    "\n",
    "fig, axs = plt.subplots(len(component_history), 2, figsize=(10, 4 * len(component_history)))\n",
    "\n",
    "for snapshot, axrow in zip(component_history, axs):\n",
    "    step = snapshot['step']\n",
    "    model = snapshot['model']\n",
    "    axrow[0].set_title(f'Step {step}')\n",
    "    learned_data.append(model(runs=best_run, device='cpu', grad_on=False))\n",
    "    im = axrow[0].imshow(\n",
    "        learned_data[-1],\n",
    "        #model(runs=best_run, device='cpu', grad_on=False),\n",
    "        vmin=-1, vmax=1\n",
    "    )\n",
    "    plt.colorbar(mappable=im, ax=axrow[0])\n",
    "    learned_components.append(\n",
    "        [model.u[best_run, :, 0].detach().cpu() * fac.optimum.a[best_run, 0].item(), \n",
    "          model.u[best_run, :, 1].detach().cpu() * fac.optimum.a[best_run, 1].item()]\n",
    "         )\n",
    "    axrow[1].plot(u, ls=(2, (3, 6)))\n",
    "    axrow[1].plot(v, ls=(2, (3, 6)))\n",
    "    axrow[1].plot(model.u[best_run, :, 0].detach().cpu() * fac.optimum.a[best_run, 0].item(), label='comp1')\n",
    "    axrow[1].plot(model.u[best_run, :, 1].detach().cpu() * fac.optimum.a[best_run, 1].item(), label='comp2')\n",
    "    #axrow[1].plot(model.u[best_run, :, 2].detach().cpu() * fac.optimum.a[best_run, 2].item(), label='comp3')\n",
    "    axrow[1].legend()\n",
    "plt.show()"
   ]
  },
  {
   "cell_type": "code",
   "execution_count": 7,
   "id": "93c749f2",
   "metadata": {},
   "outputs": [
    {
     "data": {
      "text/plain": [
       "[tensor([-0.2138, -0.1461, -0.1820, -0.0646,  0.0818,  0.4204,  0.3965,  0.5514,\n",
       "          0.5011,  0.2147,  0.2672,  0.2531,  0.3223,  0.4518,  0.2494,  0.3234,\n",
       "          0.1192, -0.2392, -0.3888, -0.4789, -0.4926, -0.6058, -0.3498, -0.5117,\n",
       "         -0.4499, -0.3810, -0.2022, -0.1608,  0.0559,  0.4186,  0.5634,  0.4567,\n",
       "          0.5871,  0.4941,  0.4830,  0.4010,  0.0561, -0.2151, -0.3129, -0.3933,\n",
       "         -0.3601, -0.0302,  0.2523,  0.5170,  0.5998,  0.4956,  0.2653, -0.0992,\n",
       "         -0.4548, -0.4811, -0.5596, -0.5241, -0.5423, -0.4971, -0.5493, -0.4490,\n",
       "         -0.4268, -0.1846,  0.0414,  0.4256,  0.5369,  0.5411,  0.4771,  0.5263]),\n",
       " tensor([-1.2518, -1.2644, -1.2444, -1.2687, -1.2240, -1.1973, -1.3122, -1.2710,\n",
       "         -0.8301, -0.5069, -0.3696, -0.3962, -0.2750, -0.3836, -0.1594, -0.1780,\n",
       "         -0.0166,  0.0219,  0.0993,  0.2112,  0.3761,  0.6702,  0.5615,  0.6298,\n",
       "          0.8364,  0.8987,  0.9856,  1.1518,  1.2133,  1.4123,  1.2394,  1.3114,\n",
       "          1.2345,  0.9677,  1.2570,  1.0853,  0.8618,  0.5156,  0.5291,  0.4774,\n",
       "          0.4152,  0.2437,  0.1671,  0.1570,  0.5641,  0.5845,  0.2869,  0.5545,\n",
       "          0.2360,  0.5733,  0.4115,  0.4486,  0.4563,  0.3577,  0.3165,  0.6523,\n",
       "          0.3414,  0.3387,  0.5713,  0.6434,  0.3125,  0.4408,  0.4480,  0.5724])]"
      ]
     },
     "execution_count": 7,
     "metadata": {},
     "output_type": "execute_result"
    }
   ],
   "source": [
    "learned_components[2]"
   ]
  },
  {
   "cell_type": "code",
   "execution_count": 20,
   "id": "c2ef4059",
   "metadata": {
    "format": "column",
    "scrolled": false
   },
   "outputs": [],
   "source": [
    "fig = SuperFigure(plt.figure(figsize=(__WIDTH__, __HEIGHT__), dpi=300))\n",
    "ax_canvas = fig.make_axes(\n",
    "    left=0, right=1, top=0, bottom=1, zorder=-100,\n",
    "    style='blank' if __PRODUCTION__ else None\n",
    ")\n",
    "ax_canvas.set_xlim([0, 1])\n",
    "ax_canvas.set_ylim([0, 1])\n",
    "\n",
    "# draw the axes grid\n",
    "x0 = 0.035\n",
    "y0 = 0.11\n",
    "dx = 0.24\n",
    "dy = 0.41\n",
    "w = 0.22\n",
    "axs = np.array([\n",
    "    [\n",
    "        fig.make_axes(\n",
    "            left=x0 + dx * i,\n",
    "            width=w,\n",
    "            top=y0,\n",
    "            width_to_height=1.0,\n",
    "            style='modern',\n",
    "        ) for i in range(4)\n",
    "    ],\n",
    "    [\n",
    "        fig.make_axes(\n",
    "            left=x0 + dx * i,\n",
    "            width=w,\n",
    "            top=y0 + dy,\n",
    "            width_to_height=1.0,\n",
    "            style='modern'\n",
    "        ) for i in range(4)\n",
    "    ],\n",
    "])\n",
    "\n",
    "title_style = dict(\n",
    "    fontsize=8,\n",
    "    y=0.96,\n",
    "    linespacing=1.6,\n",
    "    va='bottom'\n",
    ")\n",
    "tick_style = dict(\n",
    "    fontsize=7,\n",
    ")\n",
    "label_style = dict(\n",
    "    fontsize=8,\n",
    "    labelpad=0.75,\n",
    ")\n",
    "\n",
    "for ax, snapshot in zip(axs[0], component_history):\n",
    "    loss = F.mse_loss(snapshot['model'](runs=best_run, device='cpu'), Kt).item()\n",
    "    ax.set_title(\n",
    "        ''.join([\n",
    "            fr'\\textbf{{Step {snapshot[\"step\"]}}}',\n",
    "            '\\n',\n",
    "            f'MSE Loss ${tex.sciform(loss, frac_digits=1)}$'\n",
    "        ]),\n",
    "        **title_style\n",
    "    )\n",
    "\n",
    "best_run = np.argmin(fac.report.loss_best)\n",
    "\n",
    "img_vmin, img_vmax = -1, 1\n",
    "image_style = dict(\n",
    "    vmin=img_vmin,\n",
    "    vmax=img_vmax,\n",
    "    cmap='Spectral'\n",
    ")\n",
    "truth_style_base = dict(\n",
    "    lw=0.75,\n",
    "    dash_capstyle='round'\n",
    ")\n",
    "truth_style1 = dict(\n",
    "    ls=(2, (1.25, 2.5)),\n",
    "    **truth_style_base\n",
    ")\n",
    "truth_style2 = dict(\n",
    "    ls=(4, (0.5, 2.5, 3, 2.5)),\n",
    "    **truth_style_base\n",
    ")\n",
    "learned_style_base = dict(\n",
    "    lw=1.0,\n",
    "    markersize=3,\n",
    "    markeredgewidth=0.75,\n",
    "    markerfacecolor='w',\n",
    "    markevery=5\n",
    ")\n",
    "learned_style1 = dict(\n",
    "    marker='o',\n",
    "    **learned_style_base\n",
    ")\n",
    "learned_style2 = dict(\n",
    "    marker='^',\n",
    "    **learned_style_base\n",
    ")\n",
    "u_style = dict(\n",
    "    color='#FC645A'\n",
    ")\n",
    "v_style = dict(\n",
    "    color='#4A70A0'\n",
    ")\n",
    "\n",
    "for ax_img, ax_plot, snapshot in zip(axs[0], axs[1], component_history):\n",
    "    ax_img.imshow(\n",
    "        snapshot['model'](runs=best_run, device='cpu', grad_on=False),\n",
    "        **image_style\n",
    "    )\n",
    "\n",
    "    u1, v1 = snapshot['model'].u[best_run, :, :].detach().cpu().numpy().T\n",
    "    ax_plot.plot(u, **truth_style1, **u_style)\n",
    "    ax_plot.plot(v, **truth_style2, **v_style)\n",
    "    ax_plot.plot(u1, **learned_style1, **u_style)\n",
    "    ax_plot.plot(v1, **learned_style2, **v_style)\n",
    "\n",
    "# use dummy plots for legends\n",
    "bf = 'boldsymbol' if __PRODUCTION__ else 'mathbf'\n",
    "def u_i(i):\n",
    "    # AMS Euler font\n",
    "    return fr'$\\mathbf{{u}}^{{\\!(\\!{i}\\!)}}$'\n",
    "    # Same font as ticks, etc.\n",
    "    # return tex.pow(r'\\textbf{u}', f'({i})', mathmode=True)\n",
    "\n",
    "ax_canvas.plot([-1], [-1], **truth_style1, **u_style, label='True ' + u_i(1))\n",
    "ax_canvas.plot([-1], [-1], **truth_style2, **v_style, label='True ' + u_i(2))\n",
    "ax_canvas.plot([-1], [-1], **learned_style1, **u_style, label='Learned ' + u_i(1))\n",
    "ax_canvas.plot([-1], [-1], **learned_style2, **v_style, label='Learned ' + u_i(2))\n",
    "ax_canvas.legend(\n",
    "    loc='center',\n",
    "    frameon=False,\n",
    "    ncol=4,\n",
    "    fontsize=7,\n",
    "    bbox_to_anchor=(0.5, 0.02)\n",
    ")\n",
    "\n",
    "ax_colorbar = fig.make_axes(\n",
    "    left=axs[0, -1].right + 0.01,\n",
    "    width=0.01,\n",
    "    top=axs[0, -1].top + 0.02,\n",
    "    bottom=axs[0, -1].bottom - 0.02,\n",
    "    style='modern'\n",
    ")\n",
    "\n",
    "ax_colorbar.imshow(\n",
    "    np.linspace(img_vmin, img_vmax, 256).reshape(-1, 1),\n",
    "    aspect='auto',\n",
    "    origin='lower',\n",
    "    extent=(0, 1, 0, 1),\n",
    "    **image_style\n",
    ")\n",
    "\n",
    "ax_colorbar.set_xlim([0, 1])\n",
    "ax_colorbar.set_xticks([])\n",
    "ax_colorbar.set_ylim([0, 1])\n",
    "ax_colorbar.set_yticks([])\n",
    "colorbar_tickstyle = dict(\n",
    "    color='k',\n",
    "    ha='center',\n",
    "    **tick_style\n",
    ")\n",
    "ax_colorbar.text(\n",
    "    0.5, 1.02,\n",
    "    '%.0f' % img_vmax,\n",
    "    va='bottom',\n",
    "    **colorbar_tickstyle,\n",
    ")\n",
    "ax_colorbar.text(\n",
    "    0.5, -0.02,\n",
    "    '%.0f' % img_vmin,\n",
    "    va='top',\n",
    "    **colorbar_tickstyle\n",
    ")\n",
    "for _, sp in ax_colorbar.spines.items():\n",
    "    sp.set_visible(True)\n",
    "    sp.set_color('#606060')\n",
    "    sp.set_linewidth(0.25)\n",
    "\n",
    "for i, ax in enumerate(axs[0]):\n",
    "    ticks = [0, 64]\n",
    "    ax.xaxis.tick_top()\n",
    "    ax.set_xbound(lower=0, upper=64)\n",
    "    ax.set_ybound(lower=0, upper=64)\n",
    "    ax.set_xticks([])\n",
    "    # ax.set_xticks(ticks)\n",
    "    # ax.set_xticklabels(['%d' % x for x in ticks], **tick_style)\n",
    "    ax.set_yticks(ticks)\n",
    "    if i == 0:\n",
    "        ax.set_yticklabels(['%d' % y for y in ticks], **tick_style)\n",
    "        ax.set_ylabel(\n",
    "            r'\\textbf{Reconstructed Matrix}',\n",
    "            fontsize=8,\n",
    "            labelpad=-2,\n",
    "        )\n",
    "    else:\n",
    "        ax.set_yticklabels([])\n",
    "        \n",
    "for i, ax in enumerate(axs[1]):\n",
    "    xticks = [0,64]\n",
    "    yticks = [-2.5, 2.5]\n",
    "    ax.set_xbound(lower=0, upper=64)\n",
    "    ax.set_ybound(lower=-2.7, upper=2.7)\n",
    "    ax.set_xticks(xticks)\n",
    "    ax.set_yticks(yticks)\n",
    "    ax.set_xticklabels(xticks, **tick_style)\n",
    "    if i == 0:\n",
    "        ax.set_yticklabels(yticks, **tick_style)\n",
    "        ax.set_ylabel(\n",
    "            r'\\textbf{Component Vectors}',\n",
    "            fontsize=8,\n",
    "            labelpad=-7,\n",
    "        )\n",
    "    else:\n",
    "        ax.set_yticklabels([])\n",
    "        \n",
    "\n",
    "if __PRODUCTION__:\n",
    "    fig.savefig(f'pgf/{__NAME__}.pgf', dpi=300)\n",
    "else:\n",
    "\n",
    "    fig.savefig(f'svg/{__NAME__}.svg', dpi=300)"
   ]
  },
  {
   "cell_type": "code",
   "execution_count": 21,
   "id": "2f55d801",
   "metadata": {},
   "outputs": [
    {
     "name": "stdout",
     "output_type": "stream",
     "text": [
      "Successfully created fig-iteration.pdf\r\n"
     ]
    }
   ],
   "source": [
    "!make -f Makefile.figures fig-\"$__NAME__\".pdf 2>&1 | tail -n 1"
   ]
  },
  {
   "cell_type": "markdown",
   "id": "dfaa1aee",
   "metadata": {},
   "source": [
    "# Sandbox below\n",
    "\n",
    "---"
   ]
  }
 ],
 "metadata": {
  "kernelspec": {
   "display_name": "mplmagic2",
   "language": "python",
   "name": "mplmagic2"
  },
  "language_info": {
   "codemirror_mode": {
    "name": "ipython",
    "version": 3
   },
   "file_extension": ".py",
   "mimetype": "text/x-python",
   "name": "python",
   "nbconvert_exporter": "python",
   "pygments_lexer": "ipython3",
   "version": "3.8.10"
  }
 },
 "nbformat": 4,
 "nbformat_minor": 5
}
