{
 "cells": [
  {
   "cell_type": "code",
   "execution_count": 1,
   "id": "5fb8da5f",
   "metadata": {
    "format": "column"
   },
   "outputs": [
    {
     "name": "stdout",
     "output_type": "stream",
     "text": [
      "This is how much space the figure will take up on letter paper\n"
     ]
    }
   ],
   "source": [
    "__PRODUCTION__ = 1\n",
    "__NAME__       = 'efficiency-grpah-kernel'\n",
    "__WIDTH__      = 5.5  # NeurIPS 2021 text box width\n",
    "__HEIGHT__     = 1.8\n",
    "\n",
    "if __PRODUCTION__:\n",
    "    from mplmagic2 import pgf\n",
    "else:\n",
    "    from mplmagic2 import svg\n",
    "\n",
    "from mplmagic2 import SuperFigure, tex\n",
    "import matplotlib.pyplot as plt\n",
    "from matplotlib import patches\n",
    "import matplotlib.patheffects as path_effects\n",
    "\n",
    "print('This is how much space the figure will take up on letter paper')\n",
    "SuperFigure.size_hint(__WIDTH__, __HEIGHT__, margin_left=0.5 * (8.5 - __WIDTH__));"
   ]
  },
  {
   "cell_type": "code",
   "execution_count": 2,
   "id": "0d6c358f",
   "metadata": {
    "format": "column"
   },
   "outputs": [],
   "source": [
    "import functools\n",
    "import numpy as np\n",
    "import colorsys\n",
    "from scipy.ndimage import gaussian_filter1d\n",
    "from scipy.spatial.distance import cdist\n",
    "import torch\n",
    "import torch.nn.functional as F\n",
    "from torch import optim\n",
    "import networkx as nx\n",
    "import json\n",
    "import pickle\n",
    "import matplotlib\n",
    "\n",
    "from symfac.experimental import RBFExpansionPlus, RBFExpansionMiniBatchPlus"
   ]
  },
  {
   "cell_type": "code",
   "execution_count": 3,
   "id": "f6c17c47",
   "metadata": {
    "format": "column"
   },
   "outputs": [],
   "source": [
    "target = torch.tensor(\n",
    "    np.load('data/paper/QM7-rkhs-distance.maxdet.npy'),\n",
    "    dtype=torch.float32\n",
    ")"
   ]
  },
  {
   "cell_type": "code",
   "execution_count": 4,
   "id": "3cc85151",
   "metadata": {},
   "outputs": [
    {
     "data": {
      "text/plain": [
       "{'GD': {1: 0.010356170999898495,\n",
       "  2: 0.018769071000065196,\n",
       "  3: 0.027150676000019303,\n",
       "  4: 0.032652469499907966,\n",
       "  5: 0.04127614599997287,\n",
       "  6: 0.04706726799997796,\n",
       "  7: 0.055211035000070297,\n",
       "  8: 0.06141732100002173,\n",
       "  9: 0.07012742749998324,\n",
       "  10: 0.07557914349990824,\n",
       "  16: 0.11964770300005512},\n",
       " 'SGD.MINIBATCH8': {1: 0.0028968785002234654,\n",
       "  2: 0.0031054250000579486,\n",
       "  3: 0.0032788099997560494,\n",
       "  4: 0.0036005299998578266,\n",
       "  5: 0.0038789539999015687,\n",
       "  6: 0.004137956000022314,\n",
       "  7: 0.004411385000139489,\n",
       "  8: 0.004742534999877535,\n",
       "  9: 0.005030798500001765,\n",
       "  10: 0.005294907000006788,\n",
       "  16: 0.006994879000103538}}"
      ]
     },
     "execution_count": 4,
     "metadata": {},
     "output_type": "execute_result"
    }
   ],
   "source": [
    "time_per_step = {}\n",
    "for key, table in json.loads(open('data/paper/time-per-step.json').read()).items():\n",
    "    time_per_step[key] = {\n",
    "        int(k): t for k, t in table.items()\n",
    "    }\n",
    "time_per_step"
   ]
  },
  {
   "cell_type": "code",
   "execution_count": 5,
   "id": "d5dfb646",
   "metadata": {},
   "outputs": [
    {
     "data": {
      "text/plain": [
       "array([0.00614288, 0.00428757, 0.00300888, 0.00247165, 0.00161892,\n",
       "       0.00120787, 0.00096547, 0.00080021, 0.00074569, 0.00066422])"
      ]
     },
     "execution_count": 5,
     "metadata": {},
     "output_type": "execute_result"
    }
   ],
   "source": [
    "# OLD result, 500K steps, 0.1 learning rate, 100 batch size\n",
    "np.array([\n",
    "    RBFExpansionPlus.from_pickle(f'data/paper/GraphKernel.GD.RANK{i}.pickle').report.loss_best.min().item()\n",
    "    for i in 1 + np.arange(10)\n",
    "])"
   ]
  },
  {
   "cell_type": "code",
   "execution_count": 6,
   "id": "5a0db583",
   "metadata": {},
   "outputs": [
    {
     "data": {
      "text/plain": [
       "array([0.00620039, 0.00403608, 0.00270088, 0.00202079, 0.00156884,\n",
       "       0.00135751, 0.00115214, 0.00100329, 0.00092674, 0.00078057])"
      ]
     },
     "execution_count": 6,
     "metadata": {},
     "output_type": "execute_result"
    }
   ],
   "source": [
    "gd_losses_top10 = np.array([\n",
    "    RBFExpansionPlus.from_pickle(f'data/paper/GraphKernel.GD.ITER10000.BATCH1024.RANK{i}.pickle').report.loss_best.min().item()\n",
    "    for i in 1 + np.arange(10)\n",
    "])\n",
    "gd_losses_top10"
   ]
  },
  {
   "cell_type": "code",
   "execution_count": 7,
   "id": "b9f7b770",
   "metadata": {},
   "outputs": [
    {
     "data": {
      "text/plain": [
       "array([0.00623057, 0.0040156 , 0.00303386, 0.00217209, 0.00187505,\n",
       "       0.00153212, 0.00128608, 0.00104993, 0.0009985 , 0.00089636])"
      ]
     },
     "execution_count": 7,
     "metadata": {},
     "output_type": "execute_result"
    }
   ],
   "source": [
    "sgd_losses_top10 = np.array([\n",
    "    RBFExpansionMiniBatchPlus.from_pickle(f'data/paper/GraphKernel.SGD.ITER100000.BATCH1024.RANK{i}.MINIBATCH8.pickle').report.loss_best.min().item()\n",
    "    for i in 1 + np.arange(10)\n",
    "])\n",
    "sgd_losses_top10"
   ]
  },
  {
   "cell_type": "code",
   "execution_count": 8,
   "id": "a63819b9",
   "metadata": {},
   "outputs": [
    {
     "data": {
      "text/plain": [
       "array([6.23057457e-03, 4.01560450e-03, 2.17208732e-03, 1.04993337e-03,\n",
       "       4.75537119e-04, 1.76278845e-04, 5.44178038e-05, 1.36175804e-05])"
      ]
     },
     "execution_count": 8,
     "metadata": {},
     "output_type": "execute_result"
    }
   ],
   "source": [
    "def load(i):\n",
    "    try:\n",
    "        return RBFExpansionMiniBatchPlus.from_pickle(f'data/paper/GraphKernel.SGD.ITER100000.BATCH1024.RANK{i}.MINIBATCH8.pickle')\n",
    "    except:\n",
    "        try:\n",
    "            return RBFExpansionMiniBatchPlus.from_pickle(f'data/paper/GraphKernel.SGD.ITER100000.BATCH512.RANK{i}.MINIBATCH8.pickle')\n",
    "        except:\n",
    "            try:\n",
    "                return RBFExpansionMiniBatchPlus.from_pickle(f'data/paper/GraphKernel.SGD.ITER100000.BATCH256.RANK{i}.MINIBATCH8.pickle')\n",
    "            except:\n",
    "                try:\n",
    "                    return RBFExpansionMiniBatchPlus.from_pickle(f'data/paper/GraphKernel.SGD.ITER100000.BATCH128.RANK{i}.MINIBATCH8.pickle')\n",
    "                except:\n",
    "                    return RBFExpansionMiniBatchPlus.from_pickle(f'data/paper/GraphKernel.SGD.ITER100000.BATCH64.RANK{i}.MINIBATCH8.pickle')\n",
    "\n",
    "sgd_losses_pow2 = np.array([\n",
    "    load(i).report.loss_best.min().item()\n",
    "    for i in 2**np.arange(8)\n",
    "])\n",
    "sgd_losses_pow2"
   ]
  },
  {
   "cell_type": "code",
   "execution_count": 9,
   "id": "17c8a4e3",
   "metadata": {},
   "outputs": [
    {
     "data": {
      "text/plain": [
       "array([           nan, 1.18033795e-02, 7.14218483e-03, 4.27781065e-03,\n",
       "       3.60614917e-03, 3.09930362e-03, 2.68164223e-03, 2.42946051e-03,\n",
       "       2.21411275e-03, 2.06660096e-03, 1.94150743e-03, 1.82584854e-03,\n",
       "       1.72719583e-03, 1.64549299e-03, 1.56959208e-03, 1.50809450e-03,\n",
       "       1.44984754e-03, 1.40125853e-03, 1.35678719e-03, 1.31362758e-03,\n",
       "       1.27692494e-03, 1.24346601e-03, 1.21368005e-03, 1.18557889e-03,\n",
       "       1.15829506e-03, 1.13298660e-03, 1.10858484e-03, 1.08673075e-03,\n",
       "       1.06574667e-03, 1.04499929e-03, 1.02518367e-03, 1.00649112e-03,\n",
       "       9.89600418e-04, 9.73061587e-04, 9.57042232e-04, 9.41162894e-04,\n",
       "       9.25553645e-04, 9.10545430e-04, 8.96088233e-04, 8.81880682e-04,\n",
       "       8.68346928e-04, 8.55418132e-04, 8.42728803e-04, 8.30444548e-04,\n",
       "       8.18486454e-04, 8.06712565e-04, 7.95414401e-04, 7.84229644e-04,\n",
       "       7.73451575e-04, 7.62699292e-04, 7.52359583e-04, 7.42575675e-04,\n",
       "       7.33074536e-04, 7.23646510e-04, 7.14291093e-04, 7.05294666e-04,\n",
       "       6.96532134e-04, 6.87897656e-04, 6.79629117e-04, 6.71565750e-04,\n",
       "       6.63540764e-04, 6.55749250e-04, 6.48027165e-04, 6.40418856e-04,\n",
       "       6.32949157e-04, 6.25656743e-04, 6.18493547e-04, 6.11426177e-04,\n",
       "       6.04433426e-04, 5.97564207e-04, 5.90794186e-04, 5.84156024e-04,\n",
       "       5.77597208e-04, 5.71171284e-04, 5.64906960e-04, 5.58756147e-04,\n",
       "       5.52698090e-04, 5.46777105e-04, 5.40862919e-04, 5.35031430e-04,\n",
       "       5.29297387e-04, 5.23679513e-04, 5.18118723e-04, 5.12684510e-04,\n",
       "       5.07321435e-04, 5.02027429e-04, 4.96844938e-04, 4.91685620e-04,\n",
       "       4.86548887e-04, 4.81524164e-04, 4.76515864e-04, 4.71573380e-04,\n",
       "       4.66682570e-04, 4.61833710e-04, 4.57016511e-04, 4.52285776e-04,\n",
       "       4.47592096e-04, 4.42966834e-04, 4.38363876e-04, 4.33788341e-04,\n",
       "       4.29256851e-04, 4.24805680e-04, 4.20367262e-04, 4.15986738e-04,\n",
       "       4.11635744e-04, 4.07329905e-04, 4.03049198e-04, 3.98791389e-04,\n",
       "       3.94615094e-04, 3.90448387e-04, 3.86357955e-04, 3.82302606e-04,\n",
       "       3.78279240e-04, 3.74271438e-04, 3.70310432e-04, 3.66399177e-04,\n",
       "       3.62539146e-04, 3.58726628e-04, 3.54937491e-04, 3.51155703e-04,\n",
       "       3.47402033e-04, 3.43698724e-04, 3.40004328e-04, 3.36346904e-04,\n",
       "       3.32705111e-04, 3.29080583e-04, 3.25480903e-04, 3.21913970e-04,\n",
       "       3.18359836e-04, 3.14862338e-04, 3.11373204e-04, 3.07915210e-04,\n",
       "       3.04472880e-04, 3.01057456e-04, 2.97659540e-04, 2.94273499e-04,\n",
       "       2.90900541e-04, 2.87529870e-04, 2.84169126e-04, 2.80821090e-04,\n",
       "       2.77516856e-04, 2.74241600e-04, 2.70991537e-04, 2.67764157e-04,\n",
       "       2.64563895e-04, 2.61368249e-04, 2.58189079e-04, 2.55035471e-04,\n",
       "       2.51901168e-04, 2.48793255e-04, 2.45700741e-04, 2.42618624e-04,\n",
       "       2.39557879e-04, 2.36522504e-04, 2.33506597e-04, 2.30498756e-04,\n",
       "       2.27499113e-04, 2.24521218e-04, 2.21572037e-04, 2.18634370e-04,\n",
       "       2.15710232e-04, 2.12803359e-04, 2.09917586e-04, 2.07054382e-04,\n",
       "       2.04207039e-04, 2.01379429e-04, 1.98556854e-04, 1.95748650e-04,\n",
       "       1.92947983e-04, 1.90193826e-04, 1.87446550e-04, 1.84721515e-04,\n",
       "       1.81999185e-04, 1.79291526e-04, 1.76588963e-04, 1.73907887e-04,\n",
       "       1.71236916e-04, 1.68588088e-04, 1.65952476e-04, 1.63324523e-04,\n",
       "       1.60704600e-04, 1.58109450e-04, 1.55526898e-04, 1.52959370e-04,\n",
       "       1.50398913e-04, 1.47858839e-04, 1.45333308e-04, 1.42826938e-04,\n",
       "       1.40331164e-04, 1.37842757e-04, 1.35373435e-04, 1.32910861e-04,\n",
       "       1.30458910e-04, 1.28021459e-04, 1.25597014e-04, 1.23177404e-04,\n",
       "       1.20767997e-04, 1.18371825e-04, 1.15992919e-04, 1.13627975e-04,\n",
       "       1.11272111e-04, 1.08925926e-04, 1.06582160e-04, 1.04253866e-04,\n",
       "       1.01935496e-04, 9.96275589e-05, 9.73355855e-05, 9.50586538e-05,\n",
       "       9.27952601e-05, 9.05394301e-05, 8.82914339e-05, 8.60612769e-05,\n",
       "       8.38326459e-05, 8.16188201e-05, 7.94169214e-05, 7.72329191e-05,\n",
       "       7.50532992e-05, 7.28980444e-05, 7.07621187e-05, 6.86274805e-05,\n",
       "       6.65106917e-05, 6.44059682e-05, 6.23075731e-05, 6.02315789e-05,\n",
       "       5.81653495e-05, 5.61066376e-05, 5.40665698e-05, 5.20308993e-05,\n",
       "       5.00076319e-05, 4.80012442e-05, 4.59969364e-05, 4.39980457e-05,\n",
       "       4.20191769e-05, 4.00576844e-05, 3.81081938e-05, 3.61758231e-05,\n",
       "       3.42729748e-05, 3.23727403e-05, 3.04818362e-05, 2.86039625e-05,\n",
       "       2.67385297e-05, 2.48800725e-05, 2.30340052e-05, 2.12244159e-05,\n",
       "       1.94341169e-05, 1.76676724e-05, 1.59459570e-05, 1.42467109e-05,\n",
       "       1.25639275e-05, 1.08929851e-05, 9.22610098e-06, 7.63874594e-06,\n",
       "       6.06059823e-06, 4.52681886e-06, 2.99833452e-06, 1.48432700e-06,\n",
       "       1.48513952e-30])"
      ]
     },
     "execution_count": 9,
     "metadata": {},
     "output_type": "execute_result"
    }
   ],
   "source": [
    "def get_svd_losses(X, N):\n",
    "\n",
    "    U, S, V = np.linalg.svd(X.detach().numpy().astype(np.float64))\n",
    "\n",
    "    return np.array([np.nan] + [\n",
    "        F.mse_loss(torch.tensor((U[:, :s] * S[None, :s]) @ V[:s, :]), X).item()\n",
    "        for s in (np.arange(N) + 1)\n",
    "    ])\n",
    "\n",
    "svd_losses = get_svd_losses(target, target.shape[0])\n",
    "svd_losses"
   ]
  },
  {
   "cell_type": "code",
   "execution_count": 10,
   "id": "fa45ec50",
   "metadata": {},
   "outputs": [
    {
     "name": "stderr",
     "output_type": "stream",
     "text": [
      "/home/symfac/SymFac/venv-mpl3.4/lib64/python3.8/site-packages/torch/random.py:95: UserWarning: CUDA reports that you have 3 available devices, and you have used fork_rng without explicitly specifying which devices are being used. For safety, we initialize *every* CUDA device by default, which can be quite slow if you have a lot of GPUs.  If you know that you are only making use of a few CUDA devices, set the environment variable CUDA_VISIBLE_DEVICES or the 'devices' keyword argument of fork_rng with the set of devices you are actually using.  For example, if you are using CPU only, set CUDA_VISIBLE_DEVICES= or devices=[]; if you are using GPU 0 only, set CUDA_VISIBLE_DEVICES=0 or devices=[0].  To initialize all devices and suppress this warning, set the 'devices' keyword argument to `range(torch.cuda.device_count())`.\n",
      "  warnings.warn(\n"
     ]
    },
    {
     "data": {
      "text/plain": [
       "array([7.02259302e-01, 5.72581631e+19, 4.98886704e-01, 1.22917421e-01,\n",
       "       6.74562305e-02, 5.16107306e-02, 2.71645486e-02, 1.84814893e-02,\n",
       "       1.56307481e-02, 1.38288010e-02, 1.23420684e-02, 1.08710239e-02,\n",
       "       9.39737819e-03, 8.91632028e-03, 8.02531838e-03, 7.56157562e-03,\n",
       "       7.05981627e-03, 6.36129733e-03, 6.06473349e-03, 5.59320021e-03,\n",
       "       5.42458054e-03, 4.96871537e-03, 4.74538561e-03, 4.57891170e-03,\n",
       "       4.48798714e-03, 4.31839377e-03, 4.27790638e-03, 4.03640978e-03,\n",
       "       3.98738543e-03, 3.80847743e-03, 3.58551880e-03, 3.50836059e-03,\n",
       "       3.42833647e-03, 3.37694865e-03, 3.28029110e-03, 3.23108328e-03,\n",
       "       3.15024192e-03, 3.11281998e-03, 3.05419462e-03, 2.98236264e-03,\n",
       "       2.95610423e-03, 2.78732134e-03, 2.70370580e-03, 2.46871938e-03,\n",
       "       2.43991613e-03, 2.39262450e-03, 2.36799801e-03, 2.29798816e-03,\n",
       "       2.25978205e-03, 2.22332496e-03, 2.15417915e-03, 2.09674891e-03,\n",
       "       2.02476652e-03, 1.97807327e-03, 1.95556181e-03, 1.92967977e-03,\n",
       "       1.88925420e-03, 1.87075720e-03, 1.83878269e-03, 1.79140281e-03,\n",
       "       1.76229957e-03, 1.73779845e-03, 1.72086840e-03, 1.71013991e-03,\n",
       "       1.66267715e-03, 1.65251317e-03, 1.61811360e-03, 1.60326250e-03,\n",
       "       1.58370275e-03, 1.55293383e-03, 1.53908192e-03, 1.52544130e-03,\n",
       "       1.50911254e-03, 1.49915856e-03, 1.49171357e-03, 1.47403055e-03,\n",
       "       1.45080872e-03, 1.43027469e-03, 1.41647598e-03, 1.39677688e-03,\n",
       "       1.38476002e-03, 1.36845664e-03, 1.34175899e-03, 1.33059581e-03,\n",
       "       1.30710704e-03, 1.29150972e-03, 1.25376938e-03, 1.23182451e-03,\n",
       "       1.21765875e-03, 1.20664411e-03, 1.18793512e-03, 1.17146701e-03,\n",
       "       1.15287281e-03, 1.14380394e-03, 1.13136158e-03, 1.11244072e-03,\n",
       "       1.09768100e-03, 1.08601688e-03, 1.07291376e-03, 1.06197409e-03,\n",
       "       1.03719137e-03, 1.02480850e-03, 1.01782114e-03, 9.97540075e-04,\n",
       "       9.90162138e-04, 9.81367775e-04, 9.58529650e-04, 9.41812410e-04,\n",
       "       9.32259893e-04, 9.22611391e-04, 9.16829682e-04, 9.09228402e-04,\n",
       "       9.02061525e-04, 8.93460179e-04, 8.76703300e-04, 8.53846956e-04,\n",
       "       8.45948234e-04, 8.39953776e-04, 8.23242008e-04, 8.15712847e-04,\n",
       "       8.00504058e-04, 7.94321706e-04, 7.83184427e-04, 7.75703113e-04,\n",
       "       7.65393255e-04, 7.55918853e-04, 7.50907056e-04, 7.41934171e-04])"
      ]
     },
     "execution_count": 10,
     "metadata": {},
     "output_type": "execute_result"
    }
   ],
   "source": [
    "def get_nystrom_losses(X, C, random_seed=None):\n",
    "\n",
    "    with torch.random.fork_rng(devices=None):\n",
    "        if random_seed is not None:\n",
    "            torch.random.manual_seed(random_seed)\n",
    "\n",
    "        if isinstance(C, int):\n",
    "            C = torch.randperm(len(X))[:C].numpy()\n",
    "        \n",
    "        C = np.sort(C)\n",
    "        D = np.setxor1d(np.arange(len(X)), C)\n",
    "\n",
    "        Kcc = X[C, :][:, C]\n",
    "        Kdc = X[D, :][:, C]\n",
    "        Kdd = X[D, :][:, D]\n",
    "        \n",
    "        Kcc2 = Kcc.copy()\n",
    "        Kcc2[np.diag_indices_from(Kcc2)] += 1e-10\n",
    "        Kccinv = np.linalg.inv(Kcc2)\n",
    "        \n",
    "        Kdd_approx = Kdc @ Kccinv @ Kdc.T\n",
    "        \n",
    "        K_approx = torch.tensor(np.block([\n",
    "            [Kcc, Kdc.T],\n",
    "            [Kdc, Kdd_approx]\n",
    "        ]))\n",
    "        K_original = torch.tensor(np.block([\n",
    "            [Kcc, Kdc.T],\n",
    "            [Kdc, Kdd]\n",
    "        ]))\n",
    "\n",
    "        return F.mse_loss(K_approx, K_original, reduction='mean')\n",
    "\n",
    "\n",
    "nystrom_losses = np.array([\n",
    "    get_nystrom_losses(target.numpy(), k, random_seed=0).item() for k in range(target.shape[0] // 2)\n",
    "])\n",
    "nystrom_losses"
   ]
  },
  {
   "cell_type": "code",
   "execution_count": 11,
   "id": "ed04ee01",
   "metadata": {},
   "outputs": [
    {
     "data": {
      "text/plain": [
       "{'GD': {1: 0.010356170999898495,\n",
       "  2: 0.018769071000065196,\n",
       "  3: 0.027150676000019303,\n",
       "  4: 0.032652469499907966,\n",
       "  5: 0.04127614599997287,\n",
       "  6: 0.04706726799997796,\n",
       "  7: 0.055211035000070297,\n",
       "  8: 0.06141732100002173,\n",
       "  9: 0.07012742749998324,\n",
       "  10: 0.07557914349990824,\n",
       "  16: 0.11964770300005512},\n",
       " 'SGD.MINIBATCH8': {1: 0.0028968785002234654,\n",
       "  2: 0.0031054250000579486,\n",
       "  3: 0.0032788099997560494,\n",
       "  4: 0.0036005299998578266,\n",
       "  5: 0.0038789539999015687,\n",
       "  6: 0.004137956000022314,\n",
       "  7: 0.004411385000139489,\n",
       "  8: 0.004742534999877535,\n",
       "  9: 0.005030798500001765,\n",
       "  10: 0.005294907000006788,\n",
       "  16: 0.006994879000103538}}"
      ]
     },
     "execution_count": 11,
     "metadata": {},
     "output_type": "execute_result"
    }
   ],
   "source": [
    "time_per_step"
   ]
  },
  {
   "cell_type": "code",
   "execution_count": 12,
   "id": "f4bfe450",
   "metadata": {},
   "outputs": [
    {
     "data": {
      "text/plain": [
       "array([103.55135383, 187.67194093, 271.47960932, 326.49204253,\n",
       "       412.72018385, 470.62561273, 552.05513897, 614.11179268,\n",
       "       701.20414757, 755.71585586])"
      ]
     },
     "execution_count": 12,
     "metadata": {},
     "output_type": "execute_result"
    }
   ],
   "source": [
    "gd_walltime_top10 = np.array([\n",
    "    time_per_step['GD'][i] * np.max(RBFExpansionPlus.from_pickle(f'data/paper/GraphKernel.GD.ITER10000.BATCH1024.RANK{i}.pickle').report.loss_history_ticks)\n",
    "    for i in 1 + np.arange(10)\n",
    "])\n",
    "gd_walltime_top10"
   ]
  },
  {
   "cell_type": "code",
   "execution_count": 13,
   "id": "2d66a3cd",
   "metadata": {},
   "outputs": [
    {
     "data": {
      "text/plain": [
       "array([289.65888124, 310.51144576, 327.84821188, 360.01699469,\n",
       "       387.85661045, 413.75422044, 441.09438616, 474.20607464,\n",
       "       503.02954202, 529.43775093])"
      ]
     },
     "execution_count": 13,
     "metadata": {},
     "output_type": "execute_result"
    }
   ],
   "source": [
    "sgd_walltime_top10 = np.array([\n",
    "    time_per_step['SGD.MINIBATCH8'][i] * np.max(RBFExpansionMiniBatchPlus.from_pickle(f'data/paper/GraphKernel.SGD.ITER100000.BATCH1024.RANK{i}.MINIBATCH8.pickle').report.loss_history_ticks)\n",
    "    for i in 1 + np.arange(10)\n",
    "])\n",
    "sgd_walltime_top10"
   ]
  },
  {
   "cell_type": "code",
   "execution_count": 14,
   "id": "5f2bc1c6",
   "metadata": {
    "format": "column",
    "scrolled": false
   },
   "outputs": [
    {
     "name": "stdout",
     "output_type": "stream",
     "text": [
      "16 92\n",
      "32 176\n",
      "64 227\n"
     ]
    }
   ],
   "source": [
    "fig = SuperFigure(plt.figure(figsize=(__WIDTH__, __HEIGHT__), dpi=300))\n",
    "ax_canvas = fig.make_axes(\n",
    "    left=0, right=1, top=0, bottom=1, zorder=-100,\n",
    "    style='blank' if __PRODUCTION__ else None\n",
    ")\n",
    "ax_canvas.set_xlim([0, 1])\n",
    "ax_canvas.set_ylim([0, 1])\n",
    "\n",
    "# draw the axes grid\n",
    "x0 = 0.01\n",
    "dx = 0.255\n",
    "dx2 = 0.01\n",
    "w = 0.205\n",
    "axs = [\n",
    "    fig.make_axes(\n",
    "        #left=x0 + dx * i - dx2*(i//3),\n",
    "        left=x0 + dx * i + (dx2 if i >= 2 else 0),\n",
    "        width=w,\n",
    "        top=0.165,\n",
    "        width_to_height=1.0,\n",
    "        style='modern'\n",
    "    ) for i in range(4)\n",
    "]\n",
    "\n",
    "image_style = dict(\n",
    "    vmin=0,\n",
    "    vmax=1,\n",
    "    cmap='Spectral'\n",
    ")\n",
    "plot_style = dict(\n",
    "    lw=0.75,\n",
    "    marker='o',\n",
    "    markersize=2.5\n",
    ")\n",
    "svd_style = dict(\n",
    "    color='#404040',\n",
    ")\n",
    "rbf_style = dict(\n",
    "    color='#90306A',\n",
    ")\n",
    "srbf_style = dict(\n",
    "    color='#60D0FF',\n",
    ")\n",
    "\n",
    "axs[0].imshow(target, **image_style)\n",
    "\n",
    "pow2_idx = 2**np.arange(8)\n",
    "axs[1].plot(pow2_idx, sgd_losses_pow2, **plot_style, **srbf_style)\n",
    "axs[1].plot(pow2_idx, svd_losses[pow2_idx], **plot_style, **svd_style)\n",
    "\n",
    "top10_idx = 1 + np.arange(10)\n",
    "axs[2].plot(top10_idx, svd_losses[top10_idx], **plot_style, **svd_style)\n",
    "axs[2].plot(top10_idx, gd_losses_top10, **plot_style, **rbf_style)\n",
    "axs[2].plot(top10_idx, sgd_losses_top10, **plot_style, **srbf_style)\n",
    "\n",
    "bar_width = 0.25\n",
    "bar_style = dict(\n",
    "    width = bar_width\n",
    ")\n",
    "\n",
    "# draw GD times\n",
    "def draw_bars(ax, h, offset, **kwargs):\n",
    "    ax.bar(1 + np.arange(len(h)) + offset, h, **kwargs)\n",
    "\n",
    "draw_bars(axs[3], gd_walltime_top10, -0.5 * bar_width, **bar_style, **rbf_style)\n",
    "draw_bars(axs[3], sgd_walltime_top10, 0.5 * bar_width, **bar_style, **srbf_style)\n",
    "# # draw_bars(axs[3], [gd_10_times[t]/sgd_10_times[t] for t in range(10)], -0.5 * bar_width, **bar_style, **srbf_style)\n",
    "# # draw_bars(axs[3], data['times']['rbf'], 0.5 * bar_width, **bar_style, **rbf_style)\n",
    "\n",
    "\n",
    "title_style = dict(\n",
    "    fontsize=8,\n",
    "    y=0.945,\n",
    "    va='bottom'\n",
    ")\n",
    "\n",
    "tick_style = dict(\n",
    "    fontsize=7,\n",
    ")\n",
    "xlabel_style = dict(\n",
    "    fontsize=8,\n",
    "    labelpad=1.0,\n",
    ")\n",
    "ylabel_style = dict(\n",
    "    fontsize=8,\n",
    "    labelpad=0.75,\n",
    ")\n",
    "\n",
    "ticks = [0, 250]\n",
    "axs[0].set_xbound(lower=0, upper=250)\n",
    "axs[0].set_ybound(lower=0, upper=250)\n",
    "axs[0].set_xticks(ticks)\n",
    "axs[0].set_yticks([])\n",
    "axs[0].set_xticklabels(['%d' % x for x in [0, 250]], **tick_style)\n",
    "axs[0].set_xlabel('Molecule ID', **xlabel_style)\n",
    "\n",
    "for ax in axs[1:2]:\n",
    "    ax.plot(\n",
    "        [1.05, 8, 8, 1.05, 1.05],\n",
    "        [1e-3, 1e-3, 2e-2, 2e-2, 1e-3],\n",
    "        color='k',\n",
    "        lw=0.5,\n",
    "        ls=(2, (1, 3)),\n",
    "        dash_capstyle='round'\n",
    "    )\n",
    "    polygon_style = dict(\n",
    "        edgecolor='none',\n",
    "        clip_on=False,\n",
    "    )\n",
    "    ax.add_patch(\n",
    "        patches.Rectangle(\n",
    "            (1.03, 1e-3),\n",
    "            8 - 1.03, 2e-2 - 1e-3,\n",
    "            facecolor='#E0E0E0',\n",
    "            **polygon_style\n",
    "        )\n",
    "    )\n",
    "    ax.add_patch(\n",
    "        patches.FancyArrow(\n",
    "            8, 3.5 * 1e-5**0.5, 512, 0,\n",
    "            width=0.001,\n",
    "            head_width=0.003,\n",
    "            head_length=80,\n",
    "            facecolor='#404040',\n",
    "            length_includes_head=True,\n",
    "            **polygon_style\n",
    "        )\n",
    "    )\n",
    "\n",
    "    # print(svd_losses)\n",
    "    \n",
    "    # extra_ticks = np.linspace(-1, -3, 3)\n",
    "    for logr_rbf in [4, 5, 6]:\n",
    "        ref = sgd_losses_pow2[logr_rbf]\n",
    "        r_rbf = 2**logr_rbf\n",
    "        r_svd = np.flatnonzero(np.array(svd_losses) <= ref)[0] + 1\n",
    "        print(r_rbf, r_svd)\n",
    "\n",
    "        ax.axhline(\n",
    "            ref,\n",
    "            color='#404040',\n",
    "            lw=0.5,\n",
    "            ls=(2, (1.7, 3.1)),\n",
    "            dash_capstyle='round',\n",
    "            zorder=-30\n",
    "        )\n",
    "        x0 = 2**0.25\n",
    "        ax.text(\n",
    "            x0, ref * 0.8, f'RBF {r_rbf} / {r_svd} SVD  ',\n",
    "            ha='left',\n",
    "            va='top',\n",
    "            fontsize=7,\n",
    "            zorder=20,\n",
    "            path_effects=[\n",
    "                path_effects.Stroke(linewidth=1.5, foreground='w'),\n",
    "                path_effects.Normal()\n",
    "            ]        \n",
    "        )\n",
    "#         ax.add_patch(\n",
    "#             patches.Rectangle(\n",
    "#                 (1.05, ref * 0.36), 13, 0.64 * ref,\n",
    "#                 color='w',\n",
    "#                 alpha=0.8,\n",
    "#                 zorder=10\n",
    "#             ),\n",
    "#         )\n",
    "            \n",
    "    ax.set_xscale('log', base=2)\n",
    "    ax.set_yscale('log', base=10)\n",
    "    ax.minorticks_off()\n",
    "    xticks = np.arange(8)\n",
    "    yticks = np.linspace(-5, -2, 4)\n",
    "    ax.set_xbound(lower=2**xticks.min(), upper=2**xticks.max())\n",
    "    ax.set_ybound(lower=0.25 * 10**yticks.min(), upper=2 * 10**yticks.max())\n",
    "    ax.set_xticks(2**xticks)\n",
    "    ax.set_yticks(10**yticks)\n",
    "    ax.set_xticklabels([fr'{2**t:.0f}' for t in xticks], **tick_style)\n",
    "    ax.set_yticklabels([fr'${tex.pow(10, int(t))}$' for t in yticks], **tick_style)\n",
    "    ax.set_xlabel('Components', **xlabel_style)\n",
    "    ax.set_ylabel('MSE Loss', **ylabel_style)\n",
    "\n",
    "for ax in axs[2:3]:\n",
    "    ax.set_yscale('log', base=10)\n",
    "    ax.minorticks_off()\n",
    "    xticks = np.arange(1, 11)\n",
    "    yticks = np.linspace(-3, -2, 2) \n",
    "    ax.set_xbound(lower=xticks.min(), upper=xticks.max())\n",
    "    ax.set_ybound(lower=0.5 * 10**yticks.min(), upper=2 * 10**yticks.max())\n",
    "    ax.set_xticks(xticks)\n",
    "    ax.set_yticks(10**yticks)\n",
    "    ax.set_xticklabels(['%d' % x for x in xticks], **tick_style)\n",
    "    ax.set_yticklabels([fr'${tex.pow(10, int(t))}$' for t in yticks], **tick_style)\n",
    "    ax.set_xlabel('Components', **xlabel_style)\n",
    "    ax.set_ylabel('MSE Loss', **ylabel_style)\n",
    "    \n",
    "for ax in axs[3:4]:\n",
    "    xticks = 1 + np.arange(10)\n",
    "    # yticks = [1,2,3,4]\n",
    "    yticks = np.linspace(0, 800, 5)\n",
    "    ax.set_xbound(lower=xticks.min() - 0.5, upper=xticks.max() + 0.5)\n",
    "    ax.set_ybound(lower=yticks.min(), upper=yticks.max())\n",
    "\n",
    "    ax.set_xticks(xticks)\n",
    "    ax.set_yticks(yticks)\n",
    "    ax.set_xticklabels(['%d' % x for x in xticks], **tick_style)\n",
    "    ax.set_yticklabels(['%d' % y for y in yticks], **tick_style)\n",
    "    ax.set_xlabel('Components', **xlabel_style)\n",
    "    ax.set_ylabel('Time (s)', **ylabel_style)\n",
    "\n",
    "for ax in axs[1:]:\n",
    "    ax.tick_params(\n",
    "        axis='y', which='both', length=1, direction='in', pad=1\n",
    "    )\n",
    "\n",
    "axs[0].set_title(r'\\textbf{Molecular Distance}', **title_style)\n",
    "axs[1].set_title(r'\\textbf{Accuracy}', **title_style)\n",
    "axs[2].set_title(r'Accuracy', **title_style)\n",
    "axs[3].set_title(r'Time to Accuracy', **title_style)\n",
    "\n",
    "ax_zoomin = fig.make_axes(\n",
    "    left=axs[2].left,\n",
    "    right=axs[3].right,\n",
    "    top=0,\n",
    "    bottom=1,\n",
    "    style='blank'\n",
    ")\n",
    "ax_zoomin.set_xlim([0, 1])\n",
    "ax_zoomin.set_ylim([0, 1])\n",
    "overtitle_style = dict(\n",
    "    fontsize=8,\n",
    "    va='top',\n",
    "    ha='center'\n",
    ")\n",
    "ax_zoomin.text(\n",
    "    0.5, 0.985,\n",
    "    r'\\textbf{Comparison of GD and SGD} (k$\\leq$10)',\n",
    "    **overtitle_style,\n",
    ")\n",
    "ax_zoomin.axhline(0.915, lw=0.5, color='k')\n",
    "\n",
    "ax_canvas.bar([-1], [0], **bar_style, **svd_style, label='SVD')\n",
    "ax_canvas.bar([-1], [0], **bar_style, **rbf_style, label=fr'RBF, ${tex.pow(10, 4)}$ GD steps')\n",
    "ax_canvas.bar([-1], [0], **bar_style, **srbf_style, label=fr'RBF, ${tex.pow(10, 5)}$ SGD steps')\n",
    "ax_canvas.legend(\n",
    "    loc='upper center',\n",
    "    bbox_to_anchor=(0.5, 0.10),\n",
    "    ncol=3,\n",
    "    frameon=False,\n",
    "    fontsize=6\n",
    ")\n",
    "\n",
    "if __PRODUCTION__:\n",
    "    fig.savefig(f'pgf/{__NAME__}.pgf', dpi=300)\n",
    "else:\n",
    "    fig.savefig(f'svg/{__NAME__}.svg', dpi=300)\n",
    "plt.show()"
   ]
  },
  {
   "cell_type": "code",
   "execution_count": 15,
   "id": "0e94b42b",
   "metadata": {},
   "outputs": [
    {
     "name": "stdout",
     "output_type": "stream",
     "text": [
      "Successfully created fig-efficiency-grpah-kernel.pdf\r\n"
     ]
    }
   ],
   "source": [
    "!make -f Makefile.figures fig-\"$__NAME__\".pdf 2>&1 | tail -n 1"
   ]
  },
  {
   "cell_type": "markdown",
   "id": "bfadaae0",
   "metadata": {},
   "source": [
    "END\n",
    "---"
   ]
  }
 ],
 "metadata": {
  "kernelspec": {
   "display_name": "mplmagic2",
   "language": "python",
   "name": "mplmagic2"
  },
  "language_info": {
   "codemirror_mode": {
    "name": "ipython",
    "version": 3
   },
   "file_extension": ".py",
   "mimetype": "text/x-python",
   "name": "python",
   "nbconvert_exporter": "python",
   "pygments_lexer": "ipython3",
   "version": "3.8.10"
  }
 },
 "nbformat": 4,
 "nbformat_minor": 5
}
