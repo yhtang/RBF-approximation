{
 "cells": [
  {
   "cell_type": "code",
   "execution_count": 1,
   "id": "ea32d277",
   "metadata": {},
   "outputs": [],
   "source": [
    "from symfac.experimental import RBFExpansionV2\n",
    "import torch"
   ]
  },
  {
   "cell_type": "code",
   "execution_count": 3,
   "id": "8252dbba",
   "metadata": {},
   "outputs": [
    {
     "name": "stderr",
     "output_type": "stream",
     "text": [
      "100%|██████████| 1000/1000 [00:09<00:00, 103.16it/s]\n"
     ]
    }
   ],
   "source": [
    "fac = RBFExpansionV2(k=2, max_steps=1000).fit(torch.randn(4, 6))"
   ]
  },
  {
   "cell_type": "code",
   "execution_count": 4,
   "id": "728d4072",
   "metadata": {},
   "outputs": [],
   "source": [
    "fac.to_pickle('data/demo.pickle')"
   ]
  },
  {
   "cell_type": "code",
   "execution_count": 5,
   "id": "f790aa3f",
   "metadata": {},
   "outputs": [],
   "source": [
    "fac_reloaded = RBFExpansionV2.from_pickle('data/demo.pickle')"
   ]
  },
  {
   "cell_type": "code",
   "execution_count": 6,
   "id": "aebc9071",
   "metadata": {},
   "outputs": [
    {
     "data": {
      "text/plain": [
       "<symfac.experimental.rbf_expansion.RBFExpansion at 0x7fa51cb53c70>"
      ]
     },
     "execution_count": 6,
     "metadata": {},
     "output_type": "execute_result"
    }
   ],
   "source": [
    "fac_reloaded"
   ]
  },
  {
   "cell_type": "code",
   "execution_count": 7,
   "id": "9e166c5d",
   "metadata": {},
   "outputs": [
    {
     "data": {
      "text/plain": [
       "<batch of 64 RBF expansions [x_names = u, v, a, b]>"
      ]
     },
     "execution_count": 7,
     "metadata": {},
     "output_type": "execute_result"
    }
   ],
   "source": [
    "fac_reloaded.optimum"
   ]
  },
  {
   "cell_type": "code",
   "execution_count": 9,
   "id": "5dff76f2",
   "metadata": {},
   "outputs": [
    {
     "data": {
      "text/plain": [
       "tensor([0.1478, 0.0957, 0.0443, 0.0288, 0.3437, 0.1277, 0.1032, 0.1780, 0.0591,\n",
       "        0.0511, 0.0890, 0.1892, 0.2199, 0.0747, 0.0763, 0.1041, 0.3201, 0.2448,\n",
       "        0.1576, 0.1163, 0.3325, 0.1836, 0.0556, 0.0495, 0.1400, 0.0899, 0.0129,\n",
       "        0.1642, 0.1193, 0.0603, 0.1750, 0.1684, 0.1017, 0.1624, 0.1509, 0.0038,\n",
       "        0.1032, 0.0382, 0.0292, 0.0236, 0.2110, 0.1145, 0.1743, 0.1680, 0.1366,\n",
       "        0.0441, 0.0585, 0.0060, 0.1060, 0.2277, 0.0892, 0.0281, 0.0346, 0.0043,\n",
       "        0.1296, 0.0533, 0.0377, 0.2163, 0.0495, 0.1763, 0.0915, 0.1421, 0.2972,\n",
       "        0.0203])"
      ]
     },
     "execution_count": 9,
     "metadata": {},
     "output_type": "execute_result"
    }
   ],
   "source": [
    "fac_reloaded.report.loss_best"
   ]
  },
  {
   "cell_type": "code",
   "execution_count": 10,
   "id": "0429339a",
   "metadata": {},
   "outputs": [
    {
     "ename": "AttributeError",
     "evalue": "'RBFExpansion' object has no attribute 'rbf'",
     "output_type": "error",
     "traceback": [
      "\u001b[0;31m---------------------------------------------------------------------------\u001b[0m",
      "\u001b[0;31mAttributeError\u001b[0m                            Traceback (most recent call last)",
      "\u001b[0;32m<ipython-input-10-953aed2e7bbe>\u001b[0m in \u001b[0;36m<module>\u001b[0;34m\u001b[0m\n\u001b[0;32m----> 1\u001b[0;31m \u001b[0mfac_reloaded\u001b[0m\u001b[0;34m.\u001b[0m\u001b[0moptimum\u001b[0m\u001b[0;34m(\u001b[0m\u001b[0mruns\u001b[0m\u001b[0;34m=\u001b[0m\u001b[0;36m0\u001b[0m\u001b[0;34m)\u001b[0m\u001b[0;34m\u001b[0m\u001b[0;34m\u001b[0m\u001b[0m\n\u001b[0m",
      "\u001b[0;32m~/SymFac/symfac/experimental/rbf_expansion_base.py\u001b[0m in \u001b[0;36m__call__\u001b[0;34m(self, runs, components, device, grad_on)\u001b[0m\n\u001b[1;32m    111\u001b[0m                          for w in x]\n\u001b[1;32m    112\u001b[0m                 \u001b[0mdevice\u001b[0m \u001b[0;34m=\u001b[0m \u001b[0mdevice\u001b[0m \u001b[0;32mor\u001b[0m \u001b[0mself\u001b[0m\u001b[0;34m.\u001b[0m\u001b[0mdefault_device\u001b[0m\u001b[0;34m\u001b[0m\u001b[0;34m\u001b[0m\u001b[0m\n\u001b[0;32m--> 113\u001b[0;31m                 \u001b[0;32mreturn\u001b[0m \u001b[0mself\u001b[0m\u001b[0;34m.\u001b[0m\u001b[0mf\u001b[0m\u001b[0;34m(\u001b[0m\u001b[0;34m*\u001b[0m\u001b[0mx\u001b[0m\u001b[0;34m)\u001b[0m\u001b[0;34m.\u001b[0m\u001b[0mto\u001b[0m\u001b[0;34m(\u001b[0m\u001b[0mdevice\u001b[0m\u001b[0;34m)\u001b[0m\u001b[0;34m\u001b[0m\u001b[0;34m\u001b[0m\u001b[0m\n\u001b[0m\u001b[1;32m    114\u001b[0m \u001b[0;34m\u001b[0m\u001b[0m\n\u001b[1;32m    115\u001b[0m         \u001b[0;34m@\u001b[0m\u001b[0mproperty\u001b[0m\u001b[0;34m\u001b[0m\u001b[0;34m\u001b[0m\u001b[0m\n",
      "\u001b[0;32m~/SymFac/symfac/experimental/rbf_expansion.py\u001b[0m in \u001b[0;36mf\u001b[0;34m(u, v, a, b)\u001b[0m\n\u001b[1;32m     84\u001b[0m             \u001b[0;32mdef\u001b[0m \u001b[0mf\u001b[0m\u001b[0;34m(\u001b[0m\u001b[0mu\u001b[0m\u001b[0;34m,\u001b[0m \u001b[0mv\u001b[0m\u001b[0;34m,\u001b[0m \u001b[0ma\u001b[0m\u001b[0;34m,\u001b[0m \u001b[0mb\u001b[0m\u001b[0;34m)\u001b[0m\u001b[0;34m:\u001b[0m\u001b[0;34m\u001b[0m\u001b[0;34m\u001b[0m\u001b[0m\n\u001b[1;32m     85\u001b[0m                 return torch.sum(\n\u001b[0;32m---> 86\u001b[0;31m                     \u001b[0mself\u001b[0m\u001b[0;34m.\u001b[0m\u001b[0mrbf\u001b[0m\u001b[0;34m(\u001b[0m\u001b[0mu\u001b[0m\u001b[0;34m[\u001b[0m\u001b[0;34m...\u001b[0m\u001b[0;34m,\u001b[0m \u001b[0;34m:\u001b[0m\u001b[0;34m,\u001b[0m \u001b[0;32mNone\u001b[0m\u001b[0;34m,\u001b[0m \u001b[0;34m:\u001b[0m\u001b[0;34m]\u001b[0m \u001b[0;34m-\u001b[0m \u001b[0mv\u001b[0m\u001b[0;34m[\u001b[0m\u001b[0;34m...\u001b[0m\u001b[0;34m,\u001b[0m \u001b[0;32mNone\u001b[0m\u001b[0;34m,\u001b[0m \u001b[0;34m:\u001b[0m\u001b[0;34m,\u001b[0m \u001b[0;34m:\u001b[0m\u001b[0;34m]\u001b[0m\u001b[0;34m)\u001b[0m \u001b[0;34m*\u001b[0m\u001b[0;34m\u001b[0m\u001b[0;34m\u001b[0m\u001b[0m\n\u001b[0m\u001b[1;32m     87\u001b[0m                     \u001b[0ma\u001b[0m\u001b[0;34m[\u001b[0m\u001b[0;34m...\u001b[0m\u001b[0;34m,\u001b[0m \u001b[0;32mNone\u001b[0m\u001b[0;34m,\u001b[0m \u001b[0;32mNone\u001b[0m\u001b[0;34m,\u001b[0m \u001b[0;34m:\u001b[0m\u001b[0;34m]\u001b[0m\u001b[0;34m,\u001b[0m\u001b[0;34m\u001b[0m\u001b[0;34m\u001b[0m\u001b[0m\n\u001b[1;32m     88\u001b[0m                     \u001b[0mdim\u001b[0m\u001b[0;34m=\u001b[0m\u001b[0;34m-\u001b[0m\u001b[0;36m1\u001b[0m\u001b[0;34m\u001b[0m\u001b[0;34m\u001b[0m\u001b[0m\n",
      "\u001b[0;31mAttributeError\u001b[0m: 'RBFExpansion' object has no attribute 'rbf'"
     ]
    }
   ],
   "source": [
    "fac_reloaded.optimum(runs=0)"
   ]
  },
  {
   "cell_type": "code",
   "execution_count": null,
   "id": "0c9bfe2d",
   "metadata": {},
   "outputs": [],
   "source": []
  }
 ],
 "metadata": {
  "kernelspec": {
   "display_name": "Python 3",
   "language": "python",
   "name": "python3"
  },
  "language_info": {
   "codemirror_mode": {
    "name": "ipython",
    "version": 3
   },
   "file_extension": ".py",
   "mimetype": "text/x-python",
   "name": "python",
   "nbconvert_exporter": "python",
   "pygments_lexer": "ipython3",
   "version": "3.8.9"
  }
 },
 "nbformat": 4,
 "nbformat_minor": 5
}
