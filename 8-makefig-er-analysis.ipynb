{
 "cells": [
  {
   "cell_type": "code",
   "execution_count": 1,
   "id": "f3c88a87",
   "metadata": {},
   "outputs": [
    {
     "name": "stdout",
     "output_type": "stream",
     "text": [
      "This is how much space the figure will take up on letter paper\n"
     ]
    }
   ],
   "source": [
    "__PRODUCTION__ = 1\n",
    "__NAME__       = 'er-analysis'\n",
    "__WIDTH__      = 5.5  # NeurIPS 2021 text box width\n",
    "__HEIGHT__     = 1.55\n",
    "\n",
    "if __PRODUCTION__:\n",
    "    from mplmagic2 import pgf\n",
    "else:\n",
    "    from mplmagic2 import svg\n",
    "\n",
    "from mplmagic2 import SuperFigure\n",
    "import matplotlib.pyplot as plt\n",
    "\n",
    "print('This is how much space the figure will take up on letter paper')\n",
    "SuperFigure.size_hint(__WIDTH__, __HEIGHT__, margin_left=0.5 * (8.5 - __WIDTH__));"
   ]
  },
  {
   "cell_type": "code",
   "execution_count": 2,
   "id": "4314efa7",
   "metadata": {},
   "outputs": [],
   "source": [
    "import functools\n",
    "import numpy as np\n",
    "from scipy.ndimage import gaussian_filter1d\n",
    "from scipy.spatial.distance import cdist\n",
    "import torch\n",
    "import torch.nn.functional as F\n",
    "from torch import optim\n",
    "import networkx as nx\n",
    "import pickle\n",
    "from sklearn import metrics\n",
    "\n",
    "from symfac.experimental import RBFExpansionV2"
   ]
  },
  {
   "cell_type": "code",
   "execution_count": 3,
   "id": "f58637e3",
   "metadata": {},
   "outputs": [],
   "source": [
    "svd2_approx, rbf2_approx,K00=pickle.load(open('data/paper/er_approx_2.pickle', \"rb\"))\n",
    "fpr2, tpr2, fpr_svd2, tpr_svd2 = pickle.load(open('data/paper/er_auc_2.pickle', \"rb\"))\n",
    "fpr7, tpr7, fpr_svd7, tpr_svd7 = pickle.load(open('data/paper/er_auc_7.pickle', \"rb\"))"
   ]
  },
  {
   "cell_type": "code",
   "execution_count": 4,
   "id": "24e07360",
   "metadata": {
    "format": "column"
   },
   "outputs": [],
   "source": [
    "fig = SuperFigure(plt.figure(figsize=(__WIDTH__, __HEIGHT__), dpi=300))\n",
    "ax_canvas = fig.make_axes(\n",
    "    left=0, right=1, top=0, bottom=1, zorder=-100,\n",
    "    style='blank' if __PRODUCTION__ else None\n",
    ")\n",
    "ax_canvas.set_xlim([0, 1])\n",
    "ax_canvas.set_ylim([0, 1])\n",
    "\n",
    "# draw the axes grid\n",
    "# x0 = 0.05\n",
    "# dx = 0.24\n",
    "# w = 0.21\n",
    "x0 = 0.005\n",
    "dx = 0.245\n",
    "w = 0.23\n",
    "axs = [\n",
    "    fig.make_axes(\n",
    "        left=x0 + dx * i,\n",
    "        width=w,\n",
    "        top=0.09,\n",
    "        width_to_height=1.0,\n",
    "        style='modern'\n",
    "    ) for i in range(4)\n",
    "]\n",
    "bbox = axs[3].get_position()\n",
    "bbox.x0 += 0.02\n",
    "bbox.x1 += 0.02\n",
    "axs[3].set_position(bbox)\n",
    "\n",
    "image_style = dict(\n",
    "    vmin=0,\n",
    "    vmax=1,\n",
    "    cmap='Greys_r'\n",
    ")\n",
    "axs[0].imshow(K00, **image_style)\n",
    "axs[1].imshow(rbf2_approx, **image_style)\n",
    "axs[2].imshow(svd2_approx, **image_style)\n",
    "\n",
    "svd_base_style = dict(\n",
    "    lw=0.75,\n",
    "    dash_capstyle='round'\n",
    ")\n",
    "svd2_style = dict(\n",
    "    ls=(2, (1.25, 2.5)),\n",
    "    **svd_base_style\n",
    ")\n",
    "svd7_style = dict(\n",
    "    ls=(4, (0.5, 2.5, 3, 2.5)),\n",
    "    **svd_base_style\n",
    ")\n",
    "rbf_base_style = dict(\n",
    "    lw=1.0,\n",
    "    markersize=3,\n",
    "    markeredgewidth=0.75,\n",
    "    markerfacecolor='w',\n",
    ")\n",
    "rbf2_style = dict(\n",
    "    marker='o',\n",
    "    markevery=30,\n",
    "    **rbf_base_style\n",
    ")\n",
    "rbf7_style = dict(\n",
    "    marker='^',\n",
    "    markevery=5,\n",
    "    **rbf_base_style\n",
    ")\n",
    "lo_style = dict(\n",
    "    color='#F06060'\n",
    ")\n",
    "hi_style = dict(\n",
    "    color='#606060'\n",
    ")\n",
    "axs[3].plot(fpr_svd2, tpr_svd2, label='SVD (2), AUC = 0.72',  **svd7_style, **lo_style)\n",
    "axs[3].plot(fpr2, tpr2, label='RBF (2), AUC = 0.82', **rbf2_style, **lo_style)\n",
    "axs[3].plot(fpr_svd7, tpr_svd7, label='SVD (7), AUC = 0.90',  **svd2_style, **hi_style)\n",
    "axs[3].plot(fpr7, tpr7, label='RBF (7), AUC = 0.98',  **rbf7_style, **hi_style)\n",
    "\n",
    "title_style = dict(\n",
    "    fontsize=7,\n",
    "    y=1.02,\n",
    "    va='top'\n",
    ")\n",
    "tick_style = dict(\n",
    "    fontsize=7,\n",
    ")\n",
    "label_style = dict(\n",
    "    fontsize=8,\n",
    "    labelpad=0.75,\n",
    ")\n",
    "\n",
    "\n",
    "for i in range(4):\n",
    "    if i != 3:\n",
    "        ticks = [0, 40]\n",
    "        axs[i].set_xbound(lower=0, upper=40)\n",
    "        axs[i].set_ybound(lower=0, upper=40)\n",
    "    else:\n",
    "        ticks = [0, 1]\n",
    "        axs[i].set_xbound(lower=-0.02, upper=1.02)\n",
    "        axs[i].set_ybound(lower=-0.02, upper=1.02)\n",
    "    axs[i].set_xticks(ticks)\n",
    "    axs[i].set_yticks(ticks)\n",
    "    axs[i].set_xticklabels(['%d' % x for x in ticks], **tick_style)\n",
    "    if i == 3:\n",
    "        axs[i].set_yticklabels(['%d' % y for y in ticks], **tick_style)\n",
    "    else:\n",
    "        axs[i].set_yticklabels([])\n",
    "\n",
    "axs[0].set_title(r'\\textbf{Adjacency matrix}', **title_style)\n",
    "axs[1].set_title(r'\\textbf{2-Component RBF}', **title_style)\n",
    "axs[2].set_title(r'\\textbf{2-Rank SVD}', **title_style)\n",
    "axs[3].set_title(r'\\textbf{AUC-ROC}', **title_style)\n",
    "axs[3].legend(\n",
    "    loc='lower right',\n",
    "    fontsize=7,\n",
    "    frameon=False\n",
    ")\n",
    "\n",
    "\n",
    "if __PRODUCTION__:\n",
    "    fig.savefig(f'pgf/{__NAME__}.pgf', dpi=300)\n",
    "else:\n",
    "    fig.savefig(f'svg/{__NAME__}.svg', dpi=300)\n",
    "plt.show()"
   ]
  },
  {
   "cell_type": "code",
   "execution_count": 5,
   "id": "db599fcc",
   "metadata": {},
   "outputs": [
    {
     "name": "stdout",
     "output_type": "stream",
     "text": [
      "Successfully created fig-er-analysis.pdf\r\n"
     ]
    }
   ],
   "source": [
    "!make -f Makefile.figures fig-\"$__NAME__\".pdf 2>&1 | tail -n 1"
   ]
  },
  {
   "cell_type": "markdown",
   "id": "35270789",
   "metadata": {},
   "source": [
    "# END"
   ]
  }
 ],
 "metadata": {
  "kernelspec": {
   "display_name": "mplmagic2",
   "language": "python",
   "name": "mplmagic2"
  },
  "language_info": {
   "codemirror_mode": {
    "name": "ipython",
    "version": 3
   },
   "file_extension": ".py",
   "mimetype": "text/x-python",
   "name": "python",
   "nbconvert_exporter": "python",
   "pygments_lexer": "ipython3",
   "version": "3.8.10"
  }
 },
 "nbformat": 4,
 "nbformat_minor": 5
}
