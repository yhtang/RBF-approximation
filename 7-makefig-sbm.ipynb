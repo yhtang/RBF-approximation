{
 "cells": [
  {
   "cell_type": "code",
   "execution_count": 1,
   "id": "eff4f15d",
   "metadata": {},
   "outputs": [
    {
     "name": "stdout",
     "output_type": "stream",
     "text": [
      "This is how much space the figure will take up on letter paper\n"
     ]
    }
   ],
   "source": [
    "__PRODUCTION__ = 1\n",
    "__NAME__       = 'sbm'\n",
    "__WIDTH__      = 5.5  # NeurIPS 2021 text box width\n",
    "__HEIGHT__     = 1.6\n",
    "\n",
    "if __PRODUCTION__:\n",
    "    from mplmagic2 import pgf\n",
    "else:\n",
    "    from mplmagic2 import svg\n",
    "\n",
    "from mplmagic2 import SuperFigure\n",
    "import matplotlib.pyplot as plt\n",
    "\n",
    "print('This is how much space the figure will take up on letter paper')\n",
    "SuperFigure.size_hint(__WIDTH__, __HEIGHT__, margin_left=0.5 * (8.5 - __WIDTH__));"
   ]
  },
  {
   "cell_type": "code",
   "execution_count": 2,
   "id": "f7593368",
   "metadata": {},
   "outputs": [],
   "source": [
    "import functools\n",
    "import pickle\n",
    "import numpy as np\n",
    "import colorsys\n",
    "from scipy.ndimage import gaussian_filter1d\n",
    "from scipy.spatial.distance import cdist\n",
    "import torch\n",
    "import torch.nn.functional as F\n",
    "from torch import optim\n",
    "import networkx as nx\n",
    "\n",
    "from symfac.experimental import RBFExpansionV2"
   ]
  },
  {
   "cell_type": "code",
   "execution_count": 3,
   "id": "044d8b2b",
   "metadata": {},
   "outputs": [],
   "source": [
    "target, target_svd1, target_rbf1, rbf_comp_vector_normalized, comp_sizes = pickle.loads(open('data/paper/SBM-plot.pickle', 'rb').read())"
   ]
  },
  {
   "cell_type": "code",
   "execution_count": 4,
   "id": "c327462e",
   "metadata": {},
   "outputs": [],
   "source": [
    "fig = SuperFigure(plt.figure(figsize=(__WIDTH__, __HEIGHT__), dpi=300))\n",
    "ax_canvas = fig.make_axes(\n",
    "    left=0, right=1, top=0, bottom=1, zorder=-100,\n",
    "    style='blank' if __PRODUCTION__ else None\n",
    ")\n",
    "ax_canvas.set_xlim([0, 1])\n",
    "ax_canvas.set_ylim([0, 1])\n",
    "\n",
    "# draw the axes grid\n",
    "x0 = 0.01\n",
    "dx = 0.24\n",
    "w = 0.22\n",
    "axs = [\n",
    "    fig.make_axes(\n",
    "        left=x0 + dx * i,\n",
    "        width=w,\n",
    "        top=0.12,\n",
    "        width_to_height=1.0,\n",
    "        style='modern'\n",
    "    ) for i in range(4)\n",
    "]\n",
    "bbox = axs[3].get_position()\n",
    "bbox.x0 += 0.04\n",
    "bbox.x1 += 0.04\n",
    "axs[3].set_position(bbox)\n",
    "\n",
    "\n",
    "image_styles = dict(\n",
    "    cmap='Greys_r'\n",
    ")\n",
    "axs[0].imshow(target, **image_styles)\n",
    "axs[2].imshow(target_svd1, **image_styles)\n",
    "axs[1].imshow(target_rbf1, **image_styles)\n",
    "\n",
    "tick_style = dict(\n",
    "    fontsize=7\n",
    ")\n",
    "for ax in axs[:3]:\n",
    "    ax.patch.set_facecolor('w')\n",
    "    ax.set_xbound(lower=0, upper=target.shape[0])\n",
    "    ax.set_ybound(lower=0, upper=target.shape[1])\n",
    "    xticks = np.array([0, target.shape[0]])\n",
    "    ax.set_xticks(xticks)\n",
    "    ax.set_yticks([])\n",
    "    ax.tick_params(axis='both', which='both', length=0)\n",
    "    ax.set_xticklabels(['%d' % x for x in xticks], **tick_style)\n",
    "    # ax.set_yticklabels(['%d' % y for y in K.shape[1] - yticks], **tick_style)\n",
    "    ax.set_xlabel(r'\\textbf{Node ID}', fontsize=8, va='bottom')\n",
    "\n",
    "starts = np.concatenate(([0], np.cumsum(comp_sizes)))\n",
    "for i, (beg, end) in enumerate(zip(starts[:-1], starts[1:])):\n",
    "    axs[3].scatter(\n",
    "        np.arange(beg, end),\n",
    "        rbf_comp_vector_normalized[beg:end],\n",
    "        s=8.0,\n",
    "        marker='o',\n",
    "        color=colorsys.hls_to_rgb(i * 0.125, 0.45, 1.0),\n",
    "        # edgecolor='w',\n",
    "        edgecolor=colorsys.hls_to_rgb(i * 0.125, 0.3, 1.0),\n",
    "        linewidth=.5\n",
    "    )\n",
    "axs[3].set_ylabel(r'\\textbf{Embedded Coordinate}', fontsize=8)\n",
    "axs[3].set_xbound(lower=-4, upper=target.shape[0] + 4)\n",
    "axs[3].set_ybound(lower=-0.2, upper=1.2)\n",
    "xticks = np.array([0, target.shape[0]])\n",
    "axs[3].set_xticks(xticks)\n",
    "axs[3].set_yticks([0, 1])\n",
    "axs[3].tick_params(axis='both', which='both', length=0)\n",
    "axs[3].set_xticklabels(['%d' % x for x in xticks], **tick_style)\n",
    "axs[3].set_yticklabels([0, 1], **tick_style)\n",
    "axs[3].set_xlabel(r'\\textbf{Node ID}', fontsize=8, va='bottom')\n",
    "\n",
    "title_style = dict(\n",
    "    fontsize=8,\n",
    "    y=0.975,\n",
    "    va='bottom'\n",
    ")\n",
    "axs[0].set_title(r'\\textbf{Original Adjacency Matrix}', **title_style)\n",
    "axs[2].set_title(r'\\textbf{One SVD Rank}', **title_style)\n",
    "axs[1].set_title(r'\\textbf{One RBF Component}', **title_style)\n",
    "axs[3].set_title(r'\\textbf{Normalized RBF Embedding}', **title_style)\n",
    "\n",
    "\n",
    "if __PRODUCTION__:\n",
    "    fig.savefig(f'pgf/{__NAME__}.pgf', dpi=300)\n",
    "else:\n",
    "    fig.savefig(f'svg/{__NAME__}.svg', dpi=300)\n",
    "plt.show()"
   ]
  },
  {
   "cell_type": "code",
   "execution_count": 5,
   "id": "f790a0c4",
   "metadata": {
    "scrolled": false
   },
   "outputs": [
    {
     "name": "stdout",
     "output_type": "stream",
     "text": [
      "Successfully created fig-sbm.pdf\r\n"
     ]
    }
   ],
   "source": [
    "!make -f Makefile.figures fig-\"$__NAME__\".pdf 2>&1 | tail -n 1"
   ]
  },
  {
   "cell_type": "markdown",
   "id": "fea123b7",
   "metadata": {},
   "source": [
    "# END OF PICTURE GENERATION CODE"
   ]
  },
  {
   "cell_type": "code",
   "execution_count": 6,
   "id": "916ddaba",
   "metadata": {},
   "outputs": [],
   "source": [
    "# sizes = [16, 32, 48, 64, 80]\n",
    "sizes = 4 * np.arange(2, 7)\n",
    "n = np.sum(sizes)\n",
    "p1 = 0.8\n",
    "p2 = 0.2\n",
    "probs = [[p1, p2, p2, p2, p2], [p2, p1, p2, p2, p2], [p2, p2, p1, p2, p2], [p2, p2, p2, p1, p2], [p2, p2, p2, p2, p1]]\n",
    "A = nx.stochastic_block_model(sizes, probs, seed=0)\n",
    "K = torch.tensor(\n",
    "    nx.to_numpy_array(A),\n",
    "    dtype=torch.float32\n",
    ")\n",
    "\n",
    "plt.imshow(K)\n",
    "plt.show()"
   ]
  },
  {
   "cell_type": "code",
   "execution_count": 7,
   "id": "94bbda4a",
   "metadata": {},
   "outputs": [
    {
     "name": "stdout",
     "output_type": "stream",
     "text": [
      "0.2068634\n"
     ]
    }
   ],
   "source": [
    "U, S, V = np.linalg.svd(K.numpy())\n",
    "K_svd1 = torch.tensor((U[:, :1] * S[None, :1]) @ V[:1, :])\n",
    "plt.imshow(K_svd1)\n",
    "print(round(float(F.mse_loss(torch.tensor((U[:, :1] * S[None, :1]) @ V[:1, :]), K)), 8))"
   ]
  },
  {
   "cell_type": "code",
   "execution_count": 8,
   "id": "67d55fbc",
   "metadata": {},
   "outputs": [
    {
     "name": "stdout",
     "output_type": "stream",
     "text": [
      "0.14807934\n"
     ]
    }
   ],
   "source": [
    "U, S, V = np.linalg.svd(K.numpy())\n",
    "svd_approx_5 = torch.tensor((U[:, :4] * S[None, :4]) @ V[:4, :])\n",
    "plt.imshow(svd_approx_5)\n",
    "print(round(float(F.mse_loss(svd_approx_5, K)), 8))"
   ]
  },
  {
   "cell_type": "code",
   "execution_count": 9,
   "id": "d315537a",
   "metadata": {},
   "outputs": [
    {
     "name": "stdout",
     "output_type": "stream",
     "text": [
      "0.13955757\n"
     ]
    }
   ],
   "source": [
    "U, S, V = np.linalg.svd(K.numpy())\n",
    "svd_approx_5 = torch.tensor((U[:, :5] * S[None, :5]) @ V[:5, :])\n",
    "plt.imshow(svd_approx_5)\n",
    "print(round(float(F.mse_loss(svd_approx_5, K)), 8))"
   ]
  },
  {
   "cell_type": "code",
   "execution_count": 10,
   "id": "307ff8fe",
   "metadata": {},
   "outputs": [
    {
     "name": "stderr",
     "output_type": "stream",
     "text": [
      "100%|██████████| 10000/10000 [00:18<00:00, 542.21it/s]"
     ]
    },
    {
     "name": "stdout",
     "output_type": "stream",
     "text": [
      "tensor(0.1540)\n",
      "[tensor(0.1540)]\n"
     ]
    },
    {
     "name": "stderr",
     "output_type": "stream",
     "text": [
      "\n"
     ]
    }
   ],
   "source": [
    "errors = []\n",
    "k = 1\n",
    "bs = 100\n",
    "u0 = 0.1 * torch.randn([bs, len(K), 1], device=\"cuda\") \n",
    "a = torch.randn([bs, 1], device=\"cuda\")\n",
    "b = torch.randn([bs], device=\"cuda\")\n",
    "fac = RBFExpansionV2(k=k, batch_size=bs, max_steps=10000)\n",
    "fac.fith(\n",
    "    K,\n",
    "    u0=u0,\n",
    "    a0=a,\n",
    "    b0=b\n",
    "  )\n",
    "\n",
    "plt.show()\n",
    "error = fac.report.loss_best\n",
    "print(torch.min(error))\n",
    "errors.append(torch.min(error))\n",
    "plt.imshow(fac.optimum(runs=torch.argmin(fac.report.loss_best)))\n",
    "plt.show()\n",
    "print(errors)\n"
   ]
  },
  {
   "cell_type": "code",
   "execution_count": 11,
   "id": "2d2f06f1",
   "metadata": {},
   "outputs": [],
   "source": [
    "fac.to_pickle(f'data/{__NAME__}-1-component.pickle')"
   ]
  },
  {
   "cell_type": "code",
   "execution_count": 12,
   "id": "3c946a01",
   "metadata": {},
   "outputs": [
    {
     "data": {
      "text/plain": [
       "tensor(43)"
      ]
     },
     "execution_count": 12,
     "metadata": {},
     "output_type": "execute_result"
    }
   ],
   "source": [
    "best_run = torch.argmin(fac.report.loss_best)\n",
    "best_run"
   ]
  },
  {
   "cell_type": "code",
   "execution_count": 13,
   "id": "04f18110",
   "metadata": {},
   "outputs": [],
   "source": [
    "plt.figure(figsize=(12, 8))\n",
    "plt.plot(\n",
    "    fac.report.loss_history_ticks,\n",
    "    fac.report.loss_history,\n",
    "    lw=0.5,\n",
    "    alpha=0.5,\n",
    ")\n",
    "plt.plot(\n",
    "    fac.report.loss_history_ticks,\n",
    "    fac.report.loss_history.min(axis=1),\n",
    "    lw=1,\n",
    "    color='k'\n",
    ")\n",
    "\n",
    "\n",
    "plt.xlabel('t')\n",
    "plt.ylabel('loss')\n",
    "plt.xscale('log')\n",
    "plt.yscale('log')\n",
    "plt.show()"
   ]
  },
  {
   "cell_type": "code",
   "execution_count": 14,
   "id": "378f0155",
   "metadata": {},
   "outputs": [
    {
     "data": {
      "text/plain": [
       "[<matplotlib.lines.Line2D at 0x7f7c5e34af10>]"
      ]
     },
     "execution_count": 14,
     "metadata": {},
     "output_type": "execute_result"
    }
   ],
   "source": [
    "plt.plot(fac.report[0][0][best_run,:,:].cpu(), '*')"
   ]
  },
  {
   "cell_type": "code",
   "execution_count": 32,
   "id": "0836f88f",
   "metadata": {
    "format": "column"
   },
   "outputs": [],
   "source": [
    "fig = SuperFigure(figsize=(__WIDTH__, __HEIGHT__), dpi=300)\n",
    "ax_canvas = fig.make_axes(\n",
    "    left=0, right=1, top=0, bottom=1, zorder=-100,\n",
    "    style='blank' if __PRODUCTION__ else None\n",
    ")\n",
    "ax_canvas.set_xlim([0, 1])\n",
    "ax_canvas.set_ylim([0, 1])\n",
    "\n",
    "# draw the axes grid\n",
    "x0 = 0.005\n",
    "dx = 0.2425\n",
    "w = 0.2225\n",
    "axs = [\n",
    "    fig.make_axes(\n",
    "        left=x0 + dx * i,\n",
    "        width=w,\n",
    "        top=0.12,\n",
    "        width_to_height=1.0,\n",
    "        style='modern'\n",
    "    ) for i in range(4)\n",
    "]\n",
    "bbox = axs[3].get_position()\n",
    "bbox.x0 += 0.04\n",
    "bbox.x1 += 0.04\n",
    "axs[3].set_position(bbox)\n",
    "\n",
    "best_run = torch.argmin(fac.report.loss_best)\n",
    "\n",
    "image_styles = dict(\n",
    "    cmap='Greys_r'\n",
    ")\n",
    "axs[0].imshow(K, **image_styles)\n",
    "axs[1].imshow(K_svd1, **image_styles)\n",
    "axs[2].imshow(fac.optimum(runs=best_run), **image_styles)\n",
    "\n",
    "tick_style = dict(\n",
    "    fontsize=7\n",
    ")\n",
    "xlabel_style = dict(\n",
    "    fontsize=8,\n",
    "    labelpad=-2.5,\n",
    ")\n",
    "ylabel_style = dict(\n",
    "    fontsize=8,\n",
    "    labelpad=-1.75,\n",
    ")\n",
    "for ax in axs[:3]:\n",
    "    ax.patch.set_facecolor('w')\n",
    "    ax.set_xbound(lower=0, upper=K.shape[0])\n",
    "    ax.set_ybound(lower=0, upper=K.shape[1])\n",
    "    xticks = np.array([0, K.shape[0]])\n",
    "    ax.set_xticks(xticks)\n",
    "    ax.set_yticks([])\n",
    "    ax.tick_params(axis='both', which='both', length=0)\n",
    "    ax.set_xticklabels(['%d' % x for x in xticks], **tick_style)\n",
    "    # ax.set_yticklabels(['%d' % y for y in K.shape[1] - yticks], **tick_style)\n",
    "    ax.set_xlabel(r'Node ID', **xlabel_style)\n",
    "\n",
    "starts = np.concatenate(([0], np.cumsum(sizes)))\n",
    "u = fac.optimum.u[best_run, :, 0].cpu().numpy()\n",
    "u = (u - u.min()) / (u.max() - u.min())  # normalize to 0-1\n",
    "for i, (beg, end) in enumerate(zip(starts[:-1], starts[1:])):\n",
    "    axs[3].scatter(\n",
    "        np.arange(beg, end),\n",
    "        u[beg:end],\n",
    "        s=0.5 * (16 if __PRODUCTION__ else 1),\n",
    "        marker='o',\n",
    "        color=colorsys.hls_to_rgb(i * 0.125, 0.45, 1.0),\n",
    "        # edgecolor='w',\n",
    "        edgecolor=colorsys.hls_to_rgb(i * 0.125, 0.3, 1.0),\n",
    "        linewidth=.5\n",
    "    )\n",
    "axs[3].set_ylabel('Embedded Coordinate', **ylabel_style)\n",
    "axs[3].set_xbound(lower=-4, upper=K.shape[0] + 4)\n",
    "axs[3].set_ybound(lower=-0.1, upper=1.1)\n",
    "xticks = np.array([0, K.shape[0]])\n",
    "axs[3].set_xticks(xticks)\n",
    "axs[3].set_yticks([0, 1])\n",
    "axs[3].tick_params(axis='both', which='both', length=0)\n",
    "axs[3].set_xticklabels(['%d' % x for x in xticks], **tick_style)\n",
    "axs[3].set_yticklabels([0, 1], **tick_style)\n",
    "axs[3].set_xlabel('Node ID', **xlabel_style)\n",
    "\n",
    "title_style = dict(\n",
    "    fontsize=8,\n",
    "    y=0.975,\n",
    "    va='bottom'\n",
    ")\n",
    "axs[0].set_title(r'\\textbf{Original Adjacency Matrix}', **title_style)\n",
    "axs[1].set_title(r'\\textbf{One SVD Rank}', **title_style)\n",
    "axs[2].set_title(r'\\textbf{One RBF Component}', **title_style)\n",
    "axs[3].set_title(r'\\textbf{Normalized RBF Embedding}', **title_style)\n",
    "\n",
    "\n",
    "if __PRODUCTION__:\n",
    "    fig.savefig(f'pgf/{__NAME__}.pgf', dpi=300)\n",
    "else:\n",
    "    fig.savefig(f'svg/{__NAME__}.svg', dpi=300)\n",
    "plt.show()"
   ]
  },
  {
   "cell_type": "code",
   "execution_count": 33,
   "id": "3adfdebd",
   "metadata": {},
   "outputs": [
    {
     "name": "stdout",
     "output_type": "stream",
     "text": [
      "Successfully created fig-sbm.pdf\r\n"
     ]
    }
   ],
   "source": [
    "!make -f Makefile.figures fig-\"$__NAME__\".pdf 2>&1 | tail -n 1"
   ]
  },
  {
   "cell_type": "markdown",
   "id": "7fe1c986",
   "metadata": {},
   "source": [
    "END\n",
    "---"
   ]
  }
 ],
 "metadata": {
  "kernelspec": {
   "display_name": "mplmagic2",
   "language": "python",
   "name": "mplmagic2"
  },
  "language_info": {
   "codemirror_mode": {
    "name": "ipython",
    "version": 3
   },
   "file_extension": ".py",
   "mimetype": "text/x-python",
   "name": "python",
   "nbconvert_exporter": "python",
   "pygments_lexer": "ipython3",
   "version": "3.8.10"
  }
 },
 "nbformat": 4,
 "nbformat_minor": 5
}
